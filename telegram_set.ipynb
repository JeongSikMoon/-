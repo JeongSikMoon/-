{
 "cells": [
  {
   "cell_type": "code",
   "execution_count": 3,
   "metadata": {},
   "outputs": [
    {
     "name": "stdout",
     "output_type": "stream",
     "text": [
      "{\"ok\":true,\"result\":true,\"description\":\"Webhook was set\"}\n"
     ]
    }
   ],
   "source": [
    "from urllib.request import Request, urlopen\n",
    "\n",
    "## https://core.telegram.org/bots/api#getupdates 여기서 url정보 확인\n",
    "\n",
    "API_KEY = '933822011:AAGM0iQM8YkIS0s-h6bUfN_w3F323jFUxBk'\n",
    "API_KEY2 = '946895669:AAH0CSL8x8_sjBE7MP85OL73liQCY-sc8RU' #텔레그램에서 봇이 준 토큰\n",
    "WEBHOOK_URL = 'https://5715bf6e.ap.ngrok.io ' #ngrok 에서 확인\n",
    "BOT_INFO_URL = 'https://api.telegram.org/bot{API_KEY}/getMe'.format(API_KEY=API_KEY)\n",
    "BOT_UPDATE_URL = 'https://api.telegram.org/bot{API_KEY}/getUpdates?offset=1'.format(API_KEY=API_KEY)\n",
    "#offset에 bot_update_call함수를 사용해서 나온 id값을 입력해준다. \n",
    "BOT_SET_WEBHOOK_URL = 'https://api.telegram.org/bot{API_KEY}/setWebhook?url={WEBHOOK_URL}'\\\n",
    "    .format(API_KEY=API_KEY, WEBHOOK_URL=WEBHOOK_URL)\n",
    "BOT_DELETE_URL = 'https://api.telegram.org/bot{API_KEY}/deleteWebhook'.format(API_KEY=API_KEY)\n",
    "BOT_GET_INFO_URL = 'https://api.telegram.org/bot{API_KEY}/getWebhookInfo'.format(API_KEY=API_KEY)\n",
    "\n",
    "def bot_info_call():\n",
    "    \"\"\"\n",
    "    bot 의 정보를 출력하는 함수 \n",
    "    \"\"\"\n",
    "    request = Request(BOT_INFO_URL)\n",
    "    request.get_method = lambda: 'GET'\n",
    "    response_body = urlopen(request).read().decode('utf-8')\n",
    "    print(response_body)\n",
    "\n",
    "\n",
    "def bot_update_call():\n",
    "    \"\"\"\n",
    "    bot 의 업데이트 정보를 출력하는 함수 \n",
    "    \"\"\"\n",
    "    request = Request(BOT_UPDATE_URL)\n",
    "    request.get_method = lambda: 'GET'\n",
    "    response_body = urlopen(request).read().decode('utf-8')\n",
    "    print(response_body)\n",
    "\n",
    "\n",
    "def bot_set_webhook_call(): #시작할때는 이 함수를 써준다.\n",
    "    \"\"\"\n",
    "    bot 의 Webhook 을 세팅하는 함수\n",
    "    \"\"\"\n",
    "    request = Request(BOT_SET_WEBHOOK_URL)\n",
    "    request.get_method = lambda: 'GET'\n",
    "    response_body = urlopen(request).read().decode('utf-8')\n",
    "    print(response_body)\n",
    "\n",
    "\n",
    "def delete_webhook(): #처음시작할때 데이터가 쌓여있을 수 있기 때문에 지워주고 실행시켜준다.\n",
    "    \"\"\"\n",
    "    bot 의 Webhook 을 제거하는 함수\n",
    "    \"\"\"\n",
    "    request = Request(BOT_DELETE_URL)\n",
    "    request.get_method = lambda: 'GET'\n",
    "    response_body = urlopen(request).read().decode('utf-8')\n",
    "    print(response_body)\n",
    "\n",
    "\n",
    "def get_webhook_info(): \n",
    "    \"\"\"\n",
    "    \n",
    "    \"\"\"\n",
    "    request = Request(BOT_GET_INFO_URL)\n",
    "    request.get_method = lambda: 'GET'\n",
    "    response_body = urlopen(request).read().decode('utf-8')\n",
    "    print(response_body)\n",
    "    \n",
    "    \n",
    "    \n",
    "\n",
    "#delete_webhook()\n",
    "bot_set_webhook_call()\n",
    "#bot_info_call()\n",
    "#bot_update_call()\n",
    "#get_webbook_info()"
   ]
  },
  {
   "cell_type": "code",
   "execution_count": null,
   "metadata": {},
   "outputs": [],
   "source": []
  },
  {
   "cell_type": "code",
   "execution_count": null,
   "metadata": {},
   "outputs": [],
   "source": []
  },
  {
   "cell_type": "code",
   "execution_count": null,
   "metadata": {},
   "outputs": [],
   "source": []
  }
 ],
 "metadata": {
  "kernelspec": {
   "display_name": "Python 3",
   "language": "python",
   "name": "python3"
  },
  "language_info": {
   "codemirror_mode": {
    "name": "ipython",
    "version": 3
   },
   "file_extension": ".py",
   "mimetype": "text/x-python",
   "name": "python",
   "nbconvert_exporter": "python",
   "pygments_lexer": "ipython3",
   "version": "3.7.3"
  }
 },
 "nbformat": 4,
 "nbformat_minor": 2
}
