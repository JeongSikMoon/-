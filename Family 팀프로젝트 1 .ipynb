{
 "cells": [
  {
   "cell_type": "code",
   "execution_count": 40,
   "metadata": {},
   "outputs": [
    {
     "data": {
      "text/plain": [
       "['C:\\\\Users\\\\JY-JS\\\\Downloads',\n",
       " 'C:\\\\Users\\\\JY-JS\\\\.conda\\\\envs\\\\sba_env\\\\python37.zip',\n",
       " 'C:\\\\Users\\\\JY-JS\\\\.conda\\\\envs\\\\sba_env\\\\DLLs',\n",
       " 'C:\\\\Users\\\\JY-JS\\\\.conda\\\\envs\\\\sba_env\\\\lib',\n",
       " 'C:\\\\Users\\\\JY-JS\\\\.conda\\\\envs\\\\sba_env',\n",
       " '',\n",
       " 'C:\\\\Users\\\\JY-JS\\\\.conda\\\\envs\\\\sba_env\\\\lib\\\\site-packages',\n",
       " 'C:\\\\Users\\\\JY-JS\\\\.conda\\\\envs\\\\sba_env\\\\lib\\\\site-packages\\\\win32',\n",
       " 'C:\\\\Users\\\\JY-JS\\\\.conda\\\\envs\\\\sba_env\\\\lib\\\\site-packages\\\\win32\\\\lib',\n",
       " 'C:\\\\Users\\\\JY-JS\\\\.conda\\\\envs\\\\sba_env\\\\lib\\\\site-packages\\\\Pythonwin',\n",
       " 'C:\\\\Users\\\\JY-JS\\\\.conda\\\\envs\\\\sba_env\\\\lib\\\\site-packages\\\\IPython\\\\extensions',\n",
       " 'C:\\\\Users\\\\JY-JS\\\\.ipython']"
      ]
     },
     "execution_count": 40,
     "metadata": {},
     "output_type": "execute_result"
    }
   ],
   "source": [
    "import sys\n",
    "sys.path"
   ]
  },
  {
   "cell_type": "code",
   "execution_count": 4,
   "metadata": {
    "scrolled": true
   },
   "outputs": [
    {
     "name": "stdout",
     "output_type": "stream",
     "text": [
      "Collecting pandas\n",
      "  Downloading https://files.pythonhosted.org/packages/b1/69/fcc29820befae2b96fd0b01225577af653e87cd0914634bb2d372a457bd7/pandas-0.25.1-cp37-cp37m-win_amd64.whl (9.2MB)\n",
      "Requirement already satisfied: pytz>=2017.2 in c:\\users\\jy-js\\.conda\\envs\\sba_env\\lib\\site-packages (from pandas) (2019.2)\n",
      "Requirement already satisfied: python-dateutil>=2.6.1 in c:\\users\\jy-js\\.conda\\envs\\sba_env\\lib\\site-packages (from pandas) (2.8.0)\n",
      "Requirement already satisfied: numpy>=1.13.3 in c:\\users\\jy-js\\.conda\\envs\\sba_env\\lib\\site-packages (from pandas) (1.17.2)\n",
      "Requirement already satisfied: six>=1.5 in c:\\users\\jy-js\\.conda\\envs\\sba_env\\lib\\site-packages (from python-dateutil>=2.6.1->pandas) (1.12.0)\n",
      "Installing collected packages: pandas\n",
      "Successfully installed pandas-0.25.1\n"
     ]
    }
   ],
   "source": [
    "!pip install pandas"
   ]
  },
  {
   "cell_type": "code",
   "execution_count": 1,
   "metadata": {},
   "outputs": [],
   "source": [
    "import pandas as pd\n",
    "import numpy as np"
   ]
  },
  {
   "cell_type": "code",
   "execution_count": 8,
   "metadata": {
    "scrolled": false
   },
   "outputs": [
    {
     "name": "stdout",
     "output_type": "stream",
     "text": [
      "Requirement already satisfied: xlrd in c:\\programdata\\anaconda3\\lib\\site-packages (1.2.0)\n"
     ]
    }
   ],
   "source": [
    "!pip install xlrd"
   ]
  },
  {
   "cell_type": "code",
   "execution_count": 18,
   "metadata": {},
   "outputs": [
    {
     "name": "stdout",
     "output_type": "stream",
     "text": [
      " * Serving Flask app \"__main__\" (lazy loading)\n",
      " * Environment: production\n",
      "   WARNING: Do not use the development server in a production environment.\n",
      "   Use a production WSGI server instead.\n",
      " * Debug mode: off\n"
     ]
    },
    {
     "name": "stderr",
     "output_type": "stream",
     "text": [
      " * Running on http://127.0.0.1:5000/ (Press CTRL+C to quit)\n",
      "127.0.0.1 - - [18/Sep/2019 23:10:40] \"\u001b[37mPOST / HTTP/1.1\u001b[0m\" 200 -\n",
      "127.0.0.1 - - [18/Sep/2019 23:10:48] \"\u001b[37mPOST / HTTP/1.1\u001b[0m\" 200 -\n"
     ]
    }
   ],
   "source": [
    "# -*- coding: utf-8 -*-\n",
    "\n",
    "import json\n",
    "import requests\n",
    "from flask import Flask, request, Response\n",
    "\n",
    "\n",
    "API_KEY = '933822011:AAGM0iQM8YkIS0s-h6bUfN_w3F323jFUxBk'\n",
    "list1 = ['야 꺼져','헛소리마','다른 말 하자']\n",
    "app = Flask(__name__)\n",
    "\n",
    "    \n",
    "def parse_message(data):\n",
    "    chat_id = data['message']['chat']['id']\n",
    "    msg = data['message']['text']\n",
    "    \n",
    "    return chat_id, msg\n",
    "\n",
    "\n",
    "'''def parse_mseeage2(data):\n",
    "    chat_id = data['message']['chat']['id']\n",
    "    msg2 = data['message']['text']\n",
    "    \n",
    "    return chat_id,msg2'''\n",
    "\n",
    "\n",
    "def send_message(chat_id, text):\n",
    "    \"\"\"\n",
    "    Chat-id 와 text를 변수로 받아 메세지를 `ii보내주는데\n",
    "    params 안에 키보드를 설정해서 같이 보내주는 방법\n",
    "    \n",
    "    https://core.telegram.org/bots/api#keyboardbutton\n",
    "    \"\"\"\n",
    "    \n",
    "    url = 'https://api.telegram.org/bot{token}/sendMessage'.format(token=API_KEY)   #sendMessage\n",
    "    \n",
    "    keyboard = {                                        # Keyboard 형식 dic형식\n",
    "            'keyboard':[[{'text': '활동' },\n",
    "                         {'text': '비활동'},\n",
    "                         {'text': '집!!'}]\n",
    "                        \n",
    "                    ],\n",
    "            'one_time_keyboard' : True\n",
    "            }\n",
    "        \n",
    "    if text=='활동':                            # 사용자가 button_1 이라고 응답하면 ~\n",
    "        keyboard = {\n",
    "            'keyboard':[[{'text': '공원'},{'text':'키즈카페'},{'text':'동물원'}]],\n",
    "            'one_time_keyboard' : True #true안하면 계속떠있는다.\n",
    "            \n",
    "            \n",
    "            }\n",
    "      \n",
    "\n",
    "    elif text == '비활동':\n",
    "        keyboard = {\n",
    "        'keyboard':[[{'text': '박물관'},{'text': '식물원'},{'text': '수목원'}]],\n",
    "        'one_time_keyboard' : True #true안하면 계속떠있는다.\n",
    "            \n",
    "            \n",
    "        }\n",
    "        \n",
    "    elif text == '집!!':\n",
    "        \n",
    "#         'one_time_keyboard' : True\n",
    "        \n",
    "        \n",
    "        \n",
    "        params = {'chat_id':chat_id, 'text': '오늘은 집에서 쉬고싶어요!'}#, 'reply_markup' : keyboard}\n",
    "        requests.post(url, json=params)\n",
    "        \n",
    "        params = {'chat_id':chat_id, 'text': '외부로 나가고 싶으시면 \"오늘은 어디갈까?\"라고 말해주세요!'}#, 'reply_markup' : keyboard}\n",
    "        requests.post(url, json=params)\n",
    "        \n",
    "     \n",
    "   \n",
    "        \n",
    "        return 0\n",
    "    \n",
    "  \n",
    "    # 변수들을 딕셔너리 형식으로 묶음\n",
    "    params = {'chat_id':chat_id, 'text': text, 'reply_markup' : keyboard} #'reply_markup' 라고 텔레그램에서 하라고함\n",
    "    \n",
    "    # Url 에 params 를 json 형식으로 변환하여 전송\n",
    "    # 메세지를 전송하는 부분\n",
    "    response = requests.post(url, json=params)\n",
    "    \n",
    "    return 0\n",
    "    \n",
    "# 경로 설정, URL 설정\n",
    "@app.route('/', methods=['POST', 'GET'])\n",
    "def index():\n",
    "    if request.method == 'POST':\n",
    "        message = request.get_json()\n",
    "        \n",
    "        with open('response.json', 'w', encoding='UTF-8') as f:\n",
    "            json.dump(message, f, indent=4, ensure_ascii=False)\n",
    "                     \n",
    "        chat_id, msg = parse_message(message)\n",
    "        \n",
    "        \n",
    "        '''if msg == '오늘은 어디갈까?':\n",
    "            send_message(chat_id, msg)'''\n",
    "    \n",
    "        '''else:\n",
    "            msg = np.random.choice(list1)\n",
    "            send_message(chat_id, msg)\n",
    "        '''    \n",
    "            \n",
    "        return Response('ok', status=200)\n",
    "    else:\n",
    "        return 'Hello World!'\n",
    "\n",
    "\n",
    "# Python 에서는 실행시킬때 __name__ 이라는 변수에\n",
    "# __main__ 이라는 값이 할당\n",
    "if __name__ == '__main__':\n",
    "    app.run(port = 5000)\n"
   ]
  },
  {
   "cell_type": "code",
   "execution_count": null,
   "metadata": {},
   "outputs": [],
   "source": []
  },
  {
   "cell_type": "code",
   "execution_count": null,
   "metadata": {},
   "outputs": [],
   "source": []
  }
 ],
 "metadata": {
  "kernelspec": {
   "display_name": "Python 3",
   "language": "python",
   "name": "python3"
  },
  "language_info": {
   "codemirror_mode": {
    "name": "ipython",
    "version": 3
   },
   "file_extension": ".py",
   "mimetype": "text/x-python",
   "name": "python",
   "nbconvert_exporter": "python",
   "pygments_lexer": "ipython3",
   "version": "3.7.3"
  }
 },
 "nbformat": 4,
 "nbformat_minor": 2
}
