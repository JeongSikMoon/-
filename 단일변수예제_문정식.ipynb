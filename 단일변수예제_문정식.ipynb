{
  "nbformat": 4,
  "nbformat_minor": 0,
  "metadata": {
    "colab": {
      "name": "단일변수예제_문정식.ipynb",
      "version": "0.3.2",
      "provenance": [],
      "collapsed_sections": []
    },
    "kernelspec": {
      "name": "python3",
      "display_name": "Python 3"
    }
  },
  "cells": [
    {
      "cell_type": "markdown",
      "metadata": {
        "id": "j0ujfQVz2n0e",
        "colab_type": "text"
      },
      "source": [
        "### Q001. number 라는 이름의 변수에 1을 넣으세요."
      ]
    },
    {
      "cell_type": "code",
      "metadata": {
        "id": "GtkiXpxM28cy",
        "colab_type": "code",
        "colab": {}
      },
      "source": [
        "number = 1"
      ],
      "execution_count": 0,
      "outputs": []
    },
    {
      "cell_type": "markdown",
      "metadata": {
        "id": "JsVUe21129T5",
        "colab_type": "text"
      },
      "source": [
        "### Q002. 변수 a와 변수 b가 주어질 때, 그 합을 c에 넣으세요.\n",
        "### 출력도 해보세요."
      ]
    },
    {
      "cell_type": "code",
      "metadata": {
        "id": "beA_vw7e3Wdq",
        "colab_type": "code",
        "outputId": "04401f86-321f-46ed-a85a-295728217f86",
        "colab": {
          "base_uri": "https://localhost:8080/",
          "height": 36
        }
      },
      "source": [
        "a = 7\n",
        "b = 4\n",
        "c = a + b\n",
        "print(c)"
      ],
      "execution_count": 0,
      "outputs": [
        {
          "output_type": "stream",
          "text": [
            "11\n"
          ],
          "name": "stdout"
        }
      ]
    },
    {
      "cell_type": "markdown",
      "metadata": {
        "id": "4UbnX7Vg3aKJ",
        "colab_type": "text"
      },
      "source": [
        "### Q003. 3번 문제의 a를 b로 나눗셈 하여 d에 넣으세요.\n",
        "### 출력까지 해보세요."
      ]
    },
    {
      "cell_type": "code",
      "metadata": {
        "id": "67PiaAZgCNFq",
        "colab_type": "code",
        "colab": {}
      },
      "source": [
        "d = a / b"
      ],
      "execution_count": 0,
      "outputs": []
    },
    {
      "cell_type": "markdown",
      "metadata": {
        "id": "uOyvxk2HBypO",
        "colab_type": "text"
      },
      "source": [
        "### Q004. 3번의 a를 b로 나눗셈의 몫 연산한 것을 출력하세요."
      ]
    },
    {
      "cell_type": "code",
      "metadata": {
        "id": "h8rtTT-zCLnL",
        "colab_type": "code",
        "outputId": "80a80e7d-de20-4068-c679-c9a789ef5a35",
        "colab": {
          "base_uri": "https://localhost:8080/",
          "height": 36
        }
      },
      "source": [
        "z = a // b\n",
        "print(z)"
      ],
      "execution_count": 0,
      "outputs": [
        {
          "output_type": "stream",
          "text": [
            "1\n"
          ],
          "name": "stdout"
        }
      ]
    },
    {
      "cell_type": "markdown",
      "metadata": {
        "id": "aLvNsP47CMtz",
        "colab_type": "text"
      },
      "source": [
        "### Q005. 3번의 a를 b로 나눗셈의 나머지 연산 한 것을 출력하세요."
      ]
    },
    {
      "cell_type": "code",
      "metadata": {
        "id": "ifjHs8zDCYNQ",
        "colab_type": "code",
        "outputId": "5397ef28-a8ea-451e-a53f-fc7a866b7de8",
        "colab": {
          "base_uri": "https://localhost:8080/",
          "height": 36
        }
      },
      "source": [
        " x = a % b\n",
        "print(x)"
      ],
      "execution_count": 0,
      "outputs": [
        {
          "output_type": "stream",
          "text": [
            "3\n"
          ],
          "name": "stdout"
        }
      ]
    },
    {
      "cell_type": "markdown",
      "metadata": {
        "id": "cu9pxnWgDYi6",
        "colab_type": "text"
      },
      "source": [
        "### Q006. 3번의 a를 b제곱 한 결과를 출력하세요."
      ]
    },
    {
      "cell_type": "code",
      "metadata": {
        "id": "xh4ZNXOvDZbW",
        "colab_type": "code",
        "outputId": "5ae7c0c8-5a68-4047-8427-9024ce599f17",
        "colab": {
          "base_uri": "https://localhost:8080/",
          "height": 36
        }
      },
      "source": [
        "print(a**b)"
      ],
      "execution_count": 0,
      "outputs": [
        {
          "output_type": "stream",
          "text": [
            "2401\n"
          ],
          "name": "stdout"
        }
      ]
    },
    {
      "cell_type": "markdown",
      "metadata": {
        "id": "JGhQmOjFDliy",
        "colab_type": "text"
      },
      "source": [
        "### Q007. 자신의 이름을 출력하세요."
      ]
    },
    {
      "cell_type": "code",
      "metadata": {
        "id": "JoF7vp3XDxnP",
        "colab_type": "code",
        "outputId": "33cebe7d-a980-475a-82b7-1eda574fb606",
        "colab": {
          "base_uri": "https://localhost:8080/",
          "height": 36
        }
      },
      "source": [
        "print('문정식')"
      ],
      "execution_count": 0,
      "outputs": [
        {
          "output_type": "stream",
          "text": [
            "문정식\n"
          ],
          "name": "stdout"
        }
      ]
    },
    {
      "cell_type": "markdown",
      "metadata": {
        "id": "wU4JulsPDyM6",
        "colab_type": "text"
      },
      "source": [
        "### Q008. 자신의 이름을 a라는 변수에 넣으세요."
      ]
    },
    {
      "cell_type": "code",
      "metadata": {
        "id": "0ReKLMZqD5xA",
        "colab_type": "code",
        "colab": {}
      },
      "source": [
        "a = '문정식'"
      ],
      "execution_count": 0,
      "outputs": []
    },
    {
      "cell_type": "markdown",
      "metadata": {
        "id": "x1XeJ86REAhq",
        "colab_type": "text"
      },
      "source": [
        "### Q009. 아래 문장을 문자열 처리해서 b 라는 변수에 넣으세요. "
      ]
    },
    {
      "cell_type": "code",
      "metadata": {
        "id": "a2bjNri1EJ_o",
        "colab_type": "code",
        "colab": {}
      },
      "source": [
        "b = '''화려한 도시를 그리며 찾아왔네.\n",
        "그곳은 춥고도 험한 곳.'''"
      ],
      "execution_count": 0,
      "outputs": []
    },
    {
      "cell_type": "markdown",
      "metadata": {
        "id": "wPGbVi55Eg7K",
        "colab_type": "text"
      },
      "source": [
        "### Q010. 아래 예시처럼 출력될 수 있도록 문자열로 만들어 보세요.\n",
        "<pre>\n",
        "내 동생은 말했다. \"걸그룹은 역시 AOA야.\""
      ]
    },
    {
      "cell_type": "code",
      "metadata": {
        "id": "D4QEGKZuFQVc",
        "colab_type": "code",
        "outputId": "8985c1dc-1c4f-4131-b1a8-9439da69aad8",
        "colab": {
          "base_uri": "https://localhost:8080/",
          "height": 36
        }
      },
      "source": [
        "print('내 동생은 말했다. \"걸그룹은 역시 AOA야.\"')"
      ],
      "execution_count": 0,
      "outputs": [
        {
          "output_type": "stream",
          "text": [
            "내 동생은 말했다. \"걸그룹은 역시 AOA야.\"\n"
          ],
          "name": "stdout"
        }
      ]
    },
    {
      "cell_type": "markdown",
      "metadata": {
        "id": "9Mni54WCFRwC",
        "colab_type": "text"
      },
      "source": [
        "### Q011. 아래 문장을 전체 주석처리 해보세요."
      ]
    },
    {
      "cell_type": "code",
      "metadata": {
        "id": "d3-khgmHFjnV",
        "colab_type": "code",
        "outputId": "929824d1-b9d1-41b3-d1b8-aa62b1e1460d",
        "colab": {
          "base_uri": "https://localhost:8080/",
          "height": 36
        }
      },
      "source": [
        "'''내 모습이 보이지 않아\n",
        "앞길도 보이지 않아\n",
        "나는 상처 많은 번데기'''"
      ],
      "execution_count": 0,
      "outputs": [
        {
          "output_type": "execute_result",
          "data": {
            "text/plain": [
              "'내 모습이 보이지 않아\\n앞길도 보이지 않아\\n나는 상처 많은 번데기'"
            ]
          },
          "metadata": {
            "tags": []
          },
          "execution_count": 13
        }
      ]
    },
    {
      "cell_type": "markdown",
      "metadata": {
        "id": "dCEQb3mrFtri",
        "colab_type": "text"
      },
      "source": [
        "### Q012. 아래 변수에 * 2를 해서 출력하세요."
      ]
    },
    {
      "cell_type": "code",
      "metadata": {
        "id": "v-HBVIDDGB10",
        "colab_type": "code",
        "outputId": "7ede4828-8b6a-41ae-fefb-67971692d853",
        "colab": {
          "base_uri": "https://localhost:8080/",
          "height": 36
        }
      },
      "source": [
        "a = '대한민국'\n",
        "print(a*2)"
      ],
      "execution_count": 0,
      "outputs": [
        {
          "output_type": "stream",
          "text": [
            "대한민국대한민국\n"
          ],
          "name": "stdout"
        }
      ]
    },
    {
      "cell_type": "markdown",
      "metadata": {
        "id": "rrsdkUScGOJy",
        "colab_type": "text"
      },
      "source": [
        "### Q013. 아래 예시와 같이 출력하세요. 횟수는 30으로 합니다.\n",
        "<pre>\n",
        "예시\n",
        "----------------------"
      ]
    },
    {
      "cell_type": "code",
      "metadata": {
        "id": "VxjsCPEyGuPw",
        "colab_type": "code",
        "outputId": "f16a12f7-59d9-4473-c47d-309e72c90898",
        "colab": {
          "base_uri": "https://localhost:8080/",
          "height": 36
        }
      },
      "source": [
        "print('-'*30)"
      ],
      "execution_count": 0,
      "outputs": [
        {
          "output_type": "stream",
          "text": [
            "------------------------------\n"
          ],
          "name": "stdout"
        }
      ]
    },
    {
      "cell_type": "markdown",
      "metadata": {
        "id": "FIxk7iwsGutj",
        "colab_type": "text"
      },
      "source": [
        "### Q014. 아래 변수의 길이를 구하세요."
      ]
    },
    {
      "cell_type": "code",
      "metadata": {
        "id": "QoCQBQ5EHG9P",
        "colab_type": "code",
        "outputId": "fed8ab71-cd37-4482-df92-09f07aa0906b",
        "colab": {
          "base_uri": "https://localhost:8080/",
          "height": 36
        }
      },
      "source": [
        "a = '오늘은 든든한 곰국을 먹어야 겠다.'\n",
        "print(len(a))"
      ],
      "execution_count": 0,
      "outputs": [
        {
          "output_type": "stream",
          "text": [
            "19\n"
          ],
          "name": "stdout"
        }
      ]
    },
    {
      "cell_type": "markdown",
      "metadata": {
        "id": "h0D7MgA_HjNj",
        "colab_type": "text"
      },
      "source": [
        "### Q015. 아래 변수에서 '장'만을 출력하세요."
      ]
    },
    {
      "cell_type": "code",
      "metadata": {
        "id": "NbkNnyeIH7UZ",
        "colab_type": "code",
        "outputId": "7453593a-436f-4cc1-d973-08ec548c739c",
        "colab": {
          "base_uri": "https://localhost:8080/",
          "height": 36
        }
      },
      "source": [
        "a = '이에 표창장을 수여합니다.'\n",
        "print(a[5])"
      ],
      "execution_count": 0,
      "outputs": [
        {
          "output_type": "stream",
          "text": [
            "장\n"
          ],
          "name": "stdout"
        }
      ]
    },
    {
      "cell_type": "markdown",
      "metadata": {
        "id": "vnPpdO_pIDCE",
        "colab_type": "text"
      },
      "source": [
        "### Q016. 아래 변수에서 '사랑은' 을 출력하세요."
      ]
    },
    {
      "cell_type": "code",
      "metadata": {
        "id": "-bEOBJhPIazG",
        "colab_type": "code",
        "outputId": "be5f1a6f-b9d5-49f9-8bd5-3ff8b4639dfb",
        "colab": {
          "base_uri": "https://localhost:8080/",
          "height": 36
        }
      },
      "source": [
        "b = '사랑은 가슴이 시킨다.'\n",
        "print(b[:3])"
      ],
      "execution_count": 0,
      "outputs": [
        {
          "output_type": "stream",
          "text": [
            "사랑은\n"
          ],
          "name": "stdout"
        }
      ]
    },
    {
      "cell_type": "markdown",
      "metadata": {
        "id": "JWGovja9Ifwb",
        "colab_type": "text"
      },
      "source": [
        "### Q017. 아래 변수를 이용하여 예시와 같은 문자열을 출력하세요.\n",
        "<pre>\n",
        "예시:\n",
        "사람이 꽃보다 아름다워"
      ]
    },
    {
      "cell_type": "code",
      "metadata": {
        "id": "upE0f-VlIyhG",
        "colab_type": "code",
        "outputId": "942d4e01-cfe9-4fb2-9e17-d1483bf6d6de",
        "colab": {
          "base_uri": "https://localhost:8080/",
          "height": 36
        }
      },
      "source": [
        "a = '사람'\n",
        "print('{}이 꽃보다 아름다워'.format(a))"
      ],
      "execution_count": 0,
      "outputs": [
        {
          "output_type": "stream",
          "text": [
            "사람이 꽃보다 아름다워\n"
          ],
          "name": "stdout"
        }
      ]
    },
    {
      "cell_type": "markdown",
      "metadata": {
        "id": "59ZqEfTVI84b",
        "colab_type": "text"
      },
      "source": [
        "### Q018. 아래 변수들을 넣어서 예시와 같은 문자열을 출력하세요.\n",
        "<pre>\n",
        "예시:\n",
        "올해는 2019년 이니까 내년은 2020년이네."
      ]
    },
    {
      "cell_type": "code",
      "metadata": {
        "id": "DZ415OPnJgFY",
        "colab_type": "code",
        "outputId": "d50d17be-25eb-47c0-d823-c0e871b48b03",
        "colab": {
          "base_uri": "https://localhost:8080/",
          "height": 36
        }
      },
      "source": [
        "a = 2019\n",
        "b = 2020\n",
        "print('올해는 {}년 이니까 내년은 {}년이네'.format(a,b))"
      ],
      "execution_count": 0,
      "outputs": [
        {
          "output_type": "stream",
          "text": [
            "올해는 2019년 이니까 내년은 2020년이네\n"
          ],
          "name": "stdout"
        }
      ]
    },
    {
      "cell_type": "markdown",
      "metadata": {
        "id": "Fm4MJlUvJkQr",
        "colab_type": "text"
      },
      "source": [
        "### Q019. 아래 변수에서 '장'의 갯수를 출력하세요."
      ]
    },
    {
      "cell_type": "code",
      "metadata": {
        "id": "r1zTI0IWJzkI",
        "colab_type": "code",
        "outputId": "f1029fc0-5d64-4ba4-f1c7-e391c3dfca42",
        "colab": {
          "base_uri": "https://localhost:8080/",
          "height": 36
        }
      },
      "source": [
        "a = '간장공장공장장은 강공장장이다.'\n",
        "print(a.count('장'))"
      ],
      "execution_count": 0,
      "outputs": [
        {
          "output_type": "stream",
          "text": [
            "6\n"
          ],
          "name": "stdout"
        }
      ]
    },
    {
      "cell_type": "markdown",
      "metadata": {
        "id": "u08dnAqyJ9rL",
        "colab_type": "text"
      },
      "source": [
        "### Q020. 아래 변수에서 '병수'를 '민수'로 바꾸어 출력하세요."
      ]
    },
    {
      "cell_type": "code",
      "metadata": {
        "id": "24FHYLLEKKtf",
        "colab_type": "code",
        "outputId": "ea79eb96-19f6-4881-ad48-7ffeec7df281",
        "colab": {
          "base_uri": "https://localhost:8080/",
          "height": 36
        }
      },
      "source": [
        "a = '병수는 우리반 반장이야.'\n",
        "print(a.replace('병수','민수'))"
      ],
      "execution_count": 0,
      "outputs": [
        {
          "output_type": "stream",
          "text": [
            "민수는 우리반 반장이야.\n"
          ],
          "name": "stdout"
        }
      ]
    },
    {
      "cell_type": "markdown",
      "metadata": {
        "id": "Ji-p0JQJKQ4L",
        "colab_type": "text"
      },
      "source": [
        "### Q021. 아래 변수를 공백 단위로 나누어 출력해 보세요."
      ]
    },
    {
      "cell_type": "code",
      "metadata": {
        "id": "wlmi6I9tKgsk",
        "colab_type": "code",
        "outputId": "e3f3dc36-b467-4841-b4b2-604df4caa032",
        "colab": {
          "base_uri": "https://localhost:8080/",
          "height": 36
        }
      },
      "source": [
        "a = 'I am your father'\n",
        "print(a.split(' '))"
      ],
      "execution_count": 0,
      "outputs": [
        {
          "output_type": "stream",
          "text": [
            "['I', 'am', 'your', 'father']\n"
          ],
          "name": "stdout"
        }
      ]
    },
    {
      "cell_type": "code",
      "metadata": {
        "id": "Clc9CDztN4c7",
        "colab_type": "code",
        "colab": {}
      },
      "source": [
        ""
      ],
      "execution_count": 0,
      "outputs": []
    }
  ]
}