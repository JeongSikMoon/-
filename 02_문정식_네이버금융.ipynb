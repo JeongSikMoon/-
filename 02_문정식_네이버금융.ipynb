{
 "cells": [
  {
   "cell_type": "markdown",
   "metadata": {
    "colab_type": "text",
    "id": "bQGCa2Gvx7N9"
   },
   "source": [
    "# 네이버 금융 - 국내 증시 - 인기검색 종목 10개 크롤링\n",
    "https://finance.naver.com/sise/"
   ]
  },
  {
   "cell_type": "code",
   "execution_count": 0,
   "metadata": {
    "colab": {
     "base_uri": "https://localhost:8080/",
     "height": 111
    },
    "colab_type": "code",
    "id": "PNfzsfTNReDJ",
    "outputId": "48f135f3-06a9-483e-a75f-9fd9901c1aae"
   },
   "outputs": [
    {
     "name": "stdout",
     "output_type": "stream",
     "text": [
      "Requirement already satisfied: requests in /usr/local/lib/python3.6/dist-packages (2.21.0)\n",
      "Requirement already satisfied: certifi>=2017.4.17 in /usr/local/lib/python3.6/dist-packages (from requests) (2019.6.16)\n",
      "Requirement already satisfied: chardet<3.1.0,>=3.0.2 in /usr/local/lib/python3.6/dist-packages (from requests) (3.0.4)\n",
      "Requirement already satisfied: idna<2.9,>=2.5 in /usr/local/lib/python3.6/dist-packages (from requests) (2.8)\n",
      "Requirement already satisfied: urllib3<1.25,>=1.21.1 in /usr/local/lib/python3.6/dist-packages (from requests) (1.24.3)\n"
     ]
    }
   ],
   "source": [
    "# requests 설치\n",
    "!pip install requests"
   ]
  },
  {
   "cell_type": "code",
   "execution_count": 0,
   "metadata": {
    "colab": {
     "base_uri": "https://localhost:8080/",
     "height": 55
    },
    "colab_type": "code",
    "id": "wQhytTuDRyb3",
    "outputId": "a5773836-c498-4178-e9ae-3c5531430104"
   },
   "outputs": [
    {
     "name": "stdout",
     "output_type": "stream",
     "text": [
      "Requirement already satisfied: bs4 in /usr/local/lib/python3.6/dist-packages (0.0.1)\n",
      "Requirement already satisfied: beautifulsoup4 in /usr/local/lib/python3.6/dist-packages (from bs4) (4.6.3)\n"
     ]
    }
   ],
   "source": [
    "# bs4 install\n",
    "!pip install bs4"
   ]
  },
  {
   "cell_type": "code",
   "execution_count": 1,
   "metadata": {
    "colab": {},
    "colab_type": "code",
    "id": "mR4T8X_ASWLm"
   },
   "outputs": [],
   "source": [
    "# import\n",
    "import requests as req\n",
    "from bs4 import BeautifulSoup"
   ]
  },
  {
   "cell_type": "code",
   "execution_count": 2,
   "metadata": {
    "colab": {},
    "colab_type": "code",
    "id": "Zq7BCqcrTTxg"
   },
   "outputs": [],
   "source": [
    "# https://finance.naver.com/sise/\n",
    "\n",
    "url = ('https://finance.naver.com/sise/')"
   ]
  },
  {
   "cell_type": "code",
   "execution_count": 3,
   "metadata": {
    "colab": {},
    "colab_type": "code",
    "id": "UEE03SSCwRc-"
   },
   "outputs": [],
   "source": [
    "res = req.get(url)"
   ]
  },
  {
   "cell_type": "code",
   "execution_count": 4,
   "metadata": {
    "colab": {},
    "colab_type": "code",
    "id": "wRDONAf29P0s"
   },
   "outputs": [],
   "source": [
    "html = res.text"
   ]
  },
  {
   "cell_type": "code",
   "execution_count": 5,
   "metadata": {
    "colab": {},
    "colab_type": "code",
    "id": "Fet0i3D-9QJq"
   },
   "outputs": [],
   "source": [
    "soup = BeautifulSoup(html,'html.parser')"
   ]
  },
  {
   "cell_type": "code",
   "execution_count": 6,
   "metadata": {
    "colab": {},
    "colab_type": "code",
    "id": "Tsv1Rg-IwJSQ"
   },
   "outputs": [],
   "source": [
    "s1 = soup.find('ul', {'class':'lst_pop'})"
   ]
  },
  {
   "cell_type": "code",
   "execution_count": 7,
   "metadata": {
    "colab": {},
    "colab_type": "code",
    "id": "mmY8OlrqUQeG"
   },
   "outputs": [],
   "source": [
    "s2 = s1.find_all('li')"
   ]
  },
  {
   "cell_type": "code",
   "execution_count": 8,
   "metadata": {
    "colab": {
     "base_uri": "https://localhost:8080/",
     "height": 391
    },
    "colab_type": "code",
    "id": "miyUW7i0Xs20",
    "outputId": "228f22ca-3a58-4b84-cc75-fa9bb1340efb"
   },
   "outputs": [
    {
     "name": "stdout",
     "output_type": "stream",
     "text": [
      "국일제지\n",
      "6,070\n",
      "케이엠더블유\n",
      "75,900\n",
      "삼성전자\n",
      "46,250\n",
      "삼륭물산\n",
      "14,900\n",
      "상상인인더스트리\n",
      "3,515\n",
      "에스엔텍\n",
      "4,365\n",
      "화천기계\n",
      "5,940\n",
      "헬릭스미스\n",
      "183,700\n",
      "엔씨소프트\n",
      "553,000\n",
      "셀트리온\n",
      "162,500\n"
     ]
    }
   ],
   "source": [
    "for i in s2:\n",
    "    \n",
    "    tit=i.find('a').text\n",
    "    pri=i.find('span').text\n",
    "    print(tit)\n",
    "    print(pri)"
   ]
  },
  {
   "cell_type": "code",
   "execution_count": 9,
   "metadata": {
    "colab": {},
    "colab_type": "code",
    "id": "JnVINNUGe1CV"
   },
   "outputs": [],
   "source": [
    "title = []\n",
    "price = []\n",
    "for i in s2:\n",
    "    tit = i.find('a').text\n",
    "    pri=i.find('span').text\n",
    "    title.append(tit)\n",
    "    price.append(pri)\n",
    "    "
   ]
  },
  {
   "cell_type": "code",
   "execution_count": 10,
   "metadata": {
    "colab": {},
    "colab_type": "code",
    "id": "Mk49lMNae2O-"
   },
   "outputs": [
    {
     "name": "stdout",
     "output_type": "stream",
     "text": [
      "['국일제지', '케이엠더블유', '삼성전자', '삼륭물산', '상상인인더스트리', '에스엔텍', '화천기계', '헬릭스미스', '엔씨소프트', '셀트리온']\n"
     ]
    }
   ],
   "source": [
    "print(title)"
   ]
  },
  {
   "cell_type": "code",
   "execution_count": 11,
   "metadata": {
    "colab": {},
    "colab_type": "code",
    "id": "cefAYgzVfs7G"
   },
   "outputs": [
    {
     "name": "stdout",
     "output_type": "stream",
     "text": [
      "['6,070', '75,900', '46,250', '14,900', '3,515', '4,365', '5,940', '183,700', '553,000', '162,500']\n"
     ]
    }
   ],
   "source": [
    "print(price)"
   ]
  },
  {
   "cell_type": "code",
   "execution_count": 12,
   "metadata": {
    "colab": {},
    "colab_type": "code",
    "id": "ofrnzCDyfjf1"
   },
   "outputs": [],
   "source": [
    "dict = {'기업명': title,'주가':price}"
   ]
  },
  {
   "cell_type": "code",
   "execution_count": 15,
   "metadata": {
    "colab": {},
    "colab_type": "code",
    "id": "ofrnzCDyfjf1"
   },
   "outputs": [
    {
     "name": "stdout",
     "output_type": "stream",
     "text": [
      "{'기업명': ['국일제지', '케이엠더블유', '삼성전자', '삼륭물산', '상상인인더스트리', '에스엔텍', '화천기계', '헬릭스미스', '엔씨소프트', '셀트리온'], '주가': ['6,070', '75,900', '46,250', '14,900', '3,515', '4,365', '5,940', '183,700', '553,000', '162,500']}\n"
     ]
    }
   ],
   "source": [
    "print(dict)"
   ]
  },
  {
   "cell_type": "code",
   "execution_count": 24,
   "metadata": {
    "colab": {},
    "colab_type": "code",
    "id": "iUPAFTPJDOGo"
   },
   "outputs": [],
   "source": [
    "file = open('stock.txt','w')\n",
    "file.writelines(dict)\n",
    "file.close()"
   ]
  },
  {
   "cell_type": "code",
   "execution_count": 25,
   "metadata": {
    "colab": {},
    "colab_type": "code",
    "id": "6PYFVcDGDTeO"
   },
   "outputs": [
    {
     "data": {
      "text/plain": [
       "<_io.TextIOWrapper name='stock.txt' mode='w' encoding='cp949'>"
      ]
     },
     "execution_count": 25,
     "metadata": {},
     "output_type": "execute_result"
    }
   ],
   "source": [
    "file"
   ]
  },
  {
   "cell_type": "code",
   "execution_count": 26,
   "metadata": {
    "colab": {},
    "colab_type": "code",
    "id": "TEUTyNXaDWIO"
   },
   "outputs": [],
   "source": [
    "import pandas as pd"
   ]
  },
  {
   "cell_type": "code",
   "execution_count": 27,
   "metadata": {
    "colab": {},
    "colab_type": "code",
    "id": "ZpryJR_RDYiM"
   },
   "outputs": [],
   "source": [
    "df = pd.DataFrame(dict)"
   ]
  },
  {
   "cell_type": "code",
   "execution_count": 28,
   "metadata": {},
   "outputs": [
    {
     "data": {
      "text/html": [
       "<div>\n",
       "<style scoped>\n",
       "    .dataframe tbody tr th:only-of-type {\n",
       "        vertical-align: middle;\n",
       "    }\n",
       "\n",
       "    .dataframe tbody tr th {\n",
       "        vertical-align: top;\n",
       "    }\n",
       "\n",
       "    .dataframe thead th {\n",
       "        text-align: right;\n",
       "    }\n",
       "</style>\n",
       "<table border=\"1\" class=\"dataframe\">\n",
       "  <thead>\n",
       "    <tr style=\"text-align: right;\">\n",
       "      <th></th>\n",
       "      <th>기업명</th>\n",
       "      <th>주가</th>\n",
       "    </tr>\n",
       "  </thead>\n",
       "  <tbody>\n",
       "    <tr>\n",
       "      <th>0</th>\n",
       "      <td>국일제지</td>\n",
       "      <td>6,070</td>\n",
       "    </tr>\n",
       "    <tr>\n",
       "      <th>1</th>\n",
       "      <td>케이엠더블유</td>\n",
       "      <td>75,900</td>\n",
       "    </tr>\n",
       "    <tr>\n",
       "      <th>2</th>\n",
       "      <td>삼성전자</td>\n",
       "      <td>46,250</td>\n",
       "    </tr>\n",
       "    <tr>\n",
       "      <th>3</th>\n",
       "      <td>삼륭물산</td>\n",
       "      <td>14,900</td>\n",
       "    </tr>\n",
       "    <tr>\n",
       "      <th>4</th>\n",
       "      <td>상상인인더스트리</td>\n",
       "      <td>3,515</td>\n",
       "    </tr>\n",
       "    <tr>\n",
       "      <th>5</th>\n",
       "      <td>에스엔텍</td>\n",
       "      <td>4,365</td>\n",
       "    </tr>\n",
       "    <tr>\n",
       "      <th>6</th>\n",
       "      <td>화천기계</td>\n",
       "      <td>5,940</td>\n",
       "    </tr>\n",
       "    <tr>\n",
       "      <th>7</th>\n",
       "      <td>헬릭스미스</td>\n",
       "      <td>183,700</td>\n",
       "    </tr>\n",
       "    <tr>\n",
       "      <th>8</th>\n",
       "      <td>엔씨소프트</td>\n",
       "      <td>553,000</td>\n",
       "    </tr>\n",
       "    <tr>\n",
       "      <th>9</th>\n",
       "      <td>셀트리온</td>\n",
       "      <td>162,500</td>\n",
       "    </tr>\n",
       "  </tbody>\n",
       "</table>\n",
       "</div>"
      ],
      "text/plain": [
       "        기업명       주가\n",
       "0      국일제지    6,070\n",
       "1    케이엠더블유   75,900\n",
       "2      삼성전자   46,250\n",
       "3      삼륭물산   14,900\n",
       "4  상상인인더스트리    3,515\n",
       "5      에스엔텍    4,365\n",
       "6      화천기계    5,940\n",
       "7     헬릭스미스  183,700\n",
       "8     엔씨소프트  553,000\n",
       "9      셀트리온  162,500"
      ]
     },
     "execution_count": 28,
     "metadata": {},
     "output_type": "execute_result"
    }
   ],
   "source": [
    "df"
   ]
  },
  {
   "cell_type": "code",
   "execution_count": 29,
   "metadata": {
    "colab": {},
    "colab_type": "code",
    "id": "WMp9vRTDDbCo"
   },
   "outputs": [],
   "source": [
    "df.to_excel('stock.xlsx') #엑셀 파일로저장"
   ]
  },
  {
   "cell_type": "code",
   "execution_count": 31,
   "metadata": {
    "colab": {},
    "colab_type": "code",
    "id": "bkCTz96NDd1g"
   },
   "outputs": [],
   "source": [
    "df.to_csv('stock.csv',sep=',')"
   ]
  },
  {
   "cell_type": "code",
   "execution_count": 32,
   "metadata": {},
   "outputs": [
    {
     "name": "stdout",
     "output_type": "stream",
     "text": [
      "Collecting selenium\n",
      "  Downloading https://files.pythonhosted.org/packages/80/d6/4294f0b4bce4de0abf13e17190289f9d0613b0a44e5dd6a7f5ca98459853/selenium-3.141.0-py2.py3-none-any.whl (904kB)\n",
      "Requirement already satisfied: urllib3 in c:\\programdata\\anaconda3\\lib\\site-packages (from selenium) (1.24.2)\n",
      "Installing collected packages: selenium\n",
      "Successfully installed selenium-3.141.0\n"
     ]
    }
   ],
   "source": [
    "!pip install selenium"
   ]
  },
  {
   "cell_type": "code",
   "execution_count": 37,
   "metadata": {},
   "outputs": [],
   "source": [
    "from selenium import webdriver"
   ]
  },
  {
   "cell_type": "code",
   "execution_count": 40,
   "metadata": {},
   "outputs": [],
   "source": [
    "driver = webdriver.Chrome('C:\\\\Users\\\\JY-JS\\\\Downloads\\\\chromedriver_win32\\\\chromedriver')\n",
    "driver.get('http://www.cgv.co.kr/')"
   ]
  },
  {
   "cell_type": "code",
   "execution_count": null,
   "metadata": {},
   "outputs": [],
   "source": []
  }
 ],
 "metadata": {
  "colab": {
   "collapsed_sections": [],
   "name": "02_문정식_네이버금융.ipynb",
   "provenance": [],
   "version": "0.3.2"
  },
  "kernelspec": {
   "display_name": "Python 3",
   "language": "python",
   "name": "python3"
  },
  "language_info": {
   "codemirror_mode": {
    "name": "ipython",
    "version": 3
   },
   "file_extension": ".py",
   "mimetype": "text/x-python",
   "name": "python",
   "nbconvert_exporter": "python",
   "pygments_lexer": "ipython3",
   "version": "3.7.3"
  }
 },
 "nbformat": 4,
 "nbformat_minor": 1
}
