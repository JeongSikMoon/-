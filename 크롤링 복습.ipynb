{
 "cells": [
  {
   "cell_type": "code",
   "execution_count": 50,
   "metadata": {},
   "outputs": [],
   "source": [
    "import requests as req\n",
    "from bs4 import BeautifulSoup"
   ]
  },
  {
   "cell_type": "code",
   "execution_count": 51,
   "metadata": {},
   "outputs": [],
   "source": [
    "url = 'https://datalab.naver.com/keyword/realtimeList.naver'"
   ]
  },
  {
   "cell_type": "code",
   "execution_count": 52,
   "metadata": {},
   "outputs": [],
   "source": [
    "res = req.get(url)"
   ]
  },
  {
   "cell_type": "code",
   "execution_count": 53,
   "metadata": {},
   "outputs": [],
   "source": [
    "html = res.text"
   ]
  },
  {
   "cell_type": "code",
   "execution_count": 54,
   "metadata": {},
   "outputs": [],
   "source": [
    "soup = BeautifulSoup(html,'html.parser')"
   ]
  },
  {
   "cell_type": "code",
   "execution_count": 55,
   "metadata": {},
   "outputs": [
    {
     "name": "stdout",
     "output_type": "stream",
     "text": [
      "<!DOCTYPE HTML>\n",
      "\n",
      "<html lang=\"ko\">\n",
      "<head>\n",
      "<meta content=\"text/html; charset=utf-8\" http-equiv=\"Content-Type\"/>\n",
      "<meta content=\"width=device-width,initial-scale=1.0,maximum-scale=1.0,minimum-scale=1.0,user-scalable=no\" name=\"viewport\"/>\n",
      "<meta content=\"네이버 :: 서비스에 접속할 수 없습니다.\" lang=\"ko\" name=\"description\"/>\n",
      "<title>[접근 오류] 서비스에 접속할 수 없습니다.</title>\n",
      "<style type=\"text/css\">\n",
      "        /* PC */\n",
      "        body,p,h1,h2,h3,h4,h5,h6,ul,ol,li,dl,dt,dd,table,th,td,form,fieldset,legend,input,textarea,button,select{margin:0;padding:0}\n",
      "        body,input,textarea,select,button,table{font-size:12px;font-family:'굴림',Gulim,helvetica,sans-serif;color:#424242}\n",
      "        body,html{height:100%}\n",
      "        img,fieldset{border:0}\n",
      "        img{vertical-align:middle}\n",
      "        ul,ol{list-style:none}\n",
      "        em,address{font-style:normal}\n",
      "        a{color:#000;text-decoration:none}\n",
      "        legend{display:none}\n",
      "        hr{display:none !important}\n",
      "        #u_skip{position:relative;width:100%;z-index:10}\n",
      "        #u_skip a{position:absolute;top:-40px;left:0;width:auto;padding:0 10px;border:1px solid #4ec53d;background-color:#000;color:#fff;line-height:38px;white-space:nowrap;opacity:0;-webkit-transition:0.3s;transition:0.3s}\n",
      "        #u_skip a:active, #u_skip a:focus{top:0;text-decoration:none;opacity:1}\n",
      "        .wrap{width:600px;margin:0 auto}\n",
      "        .header{overflow:hidden;padding-top:30px}\n",
      "        .header .logo{float:left}\n",
      "        .header .logo .logo_link{display:inline-block;vertical-align:top}\n",
      "        .header .logo .logo_link img{width:90px;height:16px}\n",
      "        .header .nav{float:right;margin-top:9px}\n",
      "        .header .nav .nav_link:hover{text-decoration:underline}\n",
      "        .header .nav .nav_link+.nav_link:before{content:'';display:inline-block;width:1px;height:10px;margin:0 9px 0 5px;background-color:#d6d6d6;vertical-align:0}\n",
      "        .container{margin-top:66px}\n",
      "        .container .content{overflow:hidden}\n",
      "        .container .image_area{float:right;width:280px}\n",
      "        .container .image_area .image_link{display:block}\n",
      "        .container .image_area .image_author{overflow:hidden;display:block;text-align:center;white-space:nowrap;text-overflow:ellipsis;font-size:12px;line-height:17px;color:#8f8f8f}\n",
      "        .container .image_area+.info_area{overflow:hidden;text-align:left}\n",
      "        .container .info_area{margin-bottom:26px;text-align:center}\n",
      "        .container .info_area .info_txt{margin-top:29px}\n",
      "        .container .info_area .info_txt .tit{font-size:22px;line-height:25px}\n",
      "        .container .info_area .info_txt .txt{margin-top:18px;line-height:20px}\n",
      "        .container .info_area .info_link{margin-top:33px}\n",
      "        .container .info_area .info_link [class^=\"link_\"]{overflow:hidden;display:inline-block;width:101px;height:34px;border:1px solid #e3e6e7;background-color:#fafbfc;line-height:34px;text-align:center;vertical-align:top;white-space:nowrap}\n",
      "        .container .info_area .info_link .link_home{margin-left:10px}\n",
      "        .footer{margin-top:93px;padding:18px 0 24px;border-top:1px solid #eff3f6}\n",
      "        .footer address, .footer .link_naver{text-align:center;font-family:verdana,sans-serif;font-size:11px;line-height:14px;color:#8f8f8f}\n",
      "        /* 모바일 */\n",
      "        body.mobile, body.mobile input,textarea,select,button,table{font-family:-apple-system,BlinkMacSystemFont,helvetica,Apple SD Gothic Neo,sans-serif;letter-spacing:-0.3px}\n",
      "        body.mobile{background-color:#fafbfc;-webkit-text-size-adjust:none}\n",
      "        body.mobile .wrap{width:100%}\n",
      "        body.mobile .header{padding-top:15px;text-align:center}\n",
      "        body.mobile .header .logo{float:none}\n",
      "        body.mobile .header .logo .logo_link img{width:82px;height:15px}\n",
      "        body.mobile .header .nav{display:none}\n",
      "        body.mobile .container{margin-top:38px}\n",
      "        body.mobile .container .content{position:relative}\n",
      "        body.mobile .container .image_area{position:absolute;bottom:72px;left:50%;margin-left:-140px}\n",
      "        body.mobile .container .image_area+.info_area{margin:0}\n",
      "        body.mobile .container .image_area+.info_area .info_link{margin-top:280px}\n",
      "        body.mobile .container .info_area{margin:40px 0 161px 0;text-align:center}\n",
      "        body.mobile .container .info_area .info_txt{margin-top:0}\n",
      "        body.mobile .container .info_area .info_txt .tit{font-size:26px;line-height:29px;color:#000}\n",
      "        body.mobile .container .info_area .info_txt .txt{margin-top:13px;font-size:17px;line-height:25px;color:#666}\n",
      "        body.mobile .container .info_area .info_link{margin-top:79px}\n",
      "        body.mobile .container .info_area .info_link [class^=\"link_\"]{width:139px;height:42px;background-color:#fff;font-size:15px;line-height:42px;color:#424242}\n",
      "        body.mobile .container .info_area .info_link .link_home{margin-left:-1px}\n",
      "        body.mobile .footer{margin-top:66px;border-top:0}\n",
      "        body.mobile .footer address span{display:none}\n",
      "    </style>\n",
      "</head>\n",
      "<!-- 모바일 노출시 .mobile 추가 -->\n",
      "<body>\n",
      "<div class=\"u_skip\" id=\"u_skip\">\n",
      "<a href=\"#content\">본문 바로가기</a>\n",
      "</div>\n",
      "<div class=\"wrap\">\n",
      "<div class=\"header\" role=\"banner\">\n",
      "<h1 class=\"logo\"><a class=\"logo_link\" href=\"https://www.naver.com\"><img alt=\"네이버\" height=\"16\" src=\"https://ssl.pstatic.net/static.datalab/201908220224/img/naver_logo.png\" width=\"90\"/></a></h1>\n",
      "<div class=\"nav\" role=\"navigation\">\n",
      "<a class=\"nav_link\" href=\"https://www.naver.com\">네이버홈</a>\n",
      "<a class=\"nav_link\" href=\"https://help.naver.com/support/service/main.nhn?serviceNo=14493\">네이버 데이터랩 고객센터</a>\n",
      "</div>\n",
      "</div>\n",
      "<hr/>\n",
      "<div class=\"container\" role=\"main\">\n",
      "<div class=\"content\" id=\"content\">\n",
      "<div class=\"image_area _errorImage\">\n",
      "</div>\n",
      "<div class=\"info_area\">\n",
      "<div class=\"info_txt\">\n",
      "<strong class=\"tit\">다시 한번 확인해주세요!</strong>\n",
      "<p class=\"txt\">\n",
      "                        지금 입력하신 주소의 페이지는<br/>\n",
      "                        사라졌거나 다른 페이지로 변경되었습니다.<br/>\n",
      "                        주소를 다시 확인해주세요.\n",
      "                    </p>\n",
      "</div>\n",
      "<div class=\"info_link\">\n",
      "<a class=\"link_prev\" href=\"javascript:history.back()\">이전 페이지</a><a class=\"link_home\" href=\"https://www.naver.com\">네이버 홈</a>\n",
      "</div>\n",
      "</div>\n",
      "</div>\n",
      "</div>\n",
      "<hr/>\n",
      "<div class=\"footer\" role=\"contentinfo\">\n",
      "<address>\n",
      "<span>Copyright</span> ©<a class=\"link_naver\" href=\"http://www.navercorp.com\" target=\"_blank\">NAVER Corp.</a> <span>All Rights Reserved.</span>\n",
      "</address>\n",
      "</div>\n",
      "</div>\n",
      "<script src=\"https://ssl.pstatic.net/static/fe/grafolio.js\"></script>\n",
      "</body>\n",
      "</html>\n"
     ]
    }
   ],
   "source": [
    "print(soup)"
   ]
  },
  {
   "cell_type": "code",
   "execution_count": 56,
   "metadata": {},
   "outputs": [],
   "source": [
    "s1 = soup.find_all('span',{'class':'title'})"
   ]
  },
  {
   "cell_type": "code",
   "execution_count": 57,
   "metadata": {},
   "outputs": [
    {
     "data": {
      "text/plain": [
       "[]"
      ]
     },
     "execution_count": 57,
     "metadata": {},
     "output_type": "execute_result"
    }
   ],
   "source": [
    "s1"
   ]
  },
  {
   "cell_type": "code",
   "execution_count": 58,
   "metadata": {},
   "outputs": [],
   "source": [
    "from selenium import webdriver\n",
    "import time"
   ]
  },
  {
   "cell_type": "code",
   "execution_count": 59,
   "metadata": {},
   "outputs": [],
   "source": [
    "# 크롬 드라이버에 옵션 주기\n",
    "# 코렙환경에서 오션을 준다.\n",
    "options = webdriver.ChromeOptions()\n",
    "options.add_argument('--headless') # 인터페이스 없는\n",
    "options.add_argument('--no-sandbox')\n",
    "options.add_argument('--disable-dev-shm-usage')\n",
    "options.add_argument('--window-size=1920x1080')"
   ]
  },
  {
   "cell_type": "code",
   "execution_count": 67,
   "metadata": {},
   "outputs": [
    {
     "ename": "WebDriverException",
     "evalue": "Message: chrome not reachable\n  (Session info: chrome=76.0.3809.132)\n",
     "output_type": "error",
     "traceback": [
      "\u001b[1;31m---------------------------------------------------------------------------\u001b[0m",
      "\u001b[1;31mWebDriverException\u001b[0m                        Traceback (most recent call last)",
      "\u001b[1;32m<ipython-input-67-43f1bc486926>\u001b[0m in \u001b[0;36m<module>\u001b[1;34m\u001b[0m\n\u001b[0;32m     14\u001b[0m \u001b[1;33m\u001b[0m\u001b[0m\n\u001b[0;32m     15\u001b[0m \u001b[1;31m# 페이지 소스를 html이라는 변수에 저장하기\u001b[0m\u001b[1;33m\u001b[0m\u001b[1;33m\u001b[0m\u001b[1;33m\u001b[0m\u001b[0m\n\u001b[1;32m---> 16\u001b[1;33m \u001b[0mhtml\u001b[0m \u001b[1;33m=\u001b[0m \u001b[0mdriver\u001b[0m\u001b[1;33m.\u001b[0m\u001b[0mpage_source\u001b[0m\u001b[1;33m\u001b[0m\u001b[1;33m\u001b[0m\u001b[0m\n\u001b[0m",
      "\u001b[1;32mC:\\ProgramData\\Anaconda3\\lib\\site-packages\\selenium\\webdriver\\remote\\webdriver.py\u001b[0m in \u001b[0;36mpage_source\u001b[1;34m(self)\u001b[0m\n\u001b[0;32m    677\u001b[0m             \u001b[0mdriver\u001b[0m\u001b[1;33m.\u001b[0m\u001b[0mpage_source\u001b[0m\u001b[1;33m\u001b[0m\u001b[1;33m\u001b[0m\u001b[0m\n\u001b[0;32m    678\u001b[0m         \"\"\"\n\u001b[1;32m--> 679\u001b[1;33m         \u001b[1;32mreturn\u001b[0m \u001b[0mself\u001b[0m\u001b[1;33m.\u001b[0m\u001b[0mexecute\u001b[0m\u001b[1;33m(\u001b[0m\u001b[0mCommand\u001b[0m\u001b[1;33m.\u001b[0m\u001b[0mGET_PAGE_SOURCE\u001b[0m\u001b[1;33m)\u001b[0m\u001b[1;33m[\u001b[0m\u001b[1;34m'value'\u001b[0m\u001b[1;33m]\u001b[0m\u001b[1;33m\u001b[0m\u001b[1;33m\u001b[0m\u001b[0m\n\u001b[0m\u001b[0;32m    680\u001b[0m \u001b[1;33m\u001b[0m\u001b[0m\n\u001b[0;32m    681\u001b[0m     \u001b[1;32mdef\u001b[0m \u001b[0mclose\u001b[0m\u001b[1;33m(\u001b[0m\u001b[0mself\u001b[0m\u001b[1;33m)\u001b[0m\u001b[1;33m:\u001b[0m\u001b[1;33m\u001b[0m\u001b[1;33m\u001b[0m\u001b[0m\n",
      "\u001b[1;32mC:\\ProgramData\\Anaconda3\\lib\\site-packages\\selenium\\webdriver\\remote\\webdriver.py\u001b[0m in \u001b[0;36mexecute\u001b[1;34m(self, driver_command, params)\u001b[0m\n\u001b[0;32m    319\u001b[0m         \u001b[0mresponse\u001b[0m \u001b[1;33m=\u001b[0m \u001b[0mself\u001b[0m\u001b[1;33m.\u001b[0m\u001b[0mcommand_executor\u001b[0m\u001b[1;33m.\u001b[0m\u001b[0mexecute\u001b[0m\u001b[1;33m(\u001b[0m\u001b[0mdriver_command\u001b[0m\u001b[1;33m,\u001b[0m \u001b[0mparams\u001b[0m\u001b[1;33m)\u001b[0m\u001b[1;33m\u001b[0m\u001b[1;33m\u001b[0m\u001b[0m\n\u001b[0;32m    320\u001b[0m         \u001b[1;32mif\u001b[0m \u001b[0mresponse\u001b[0m\u001b[1;33m:\u001b[0m\u001b[1;33m\u001b[0m\u001b[1;33m\u001b[0m\u001b[0m\n\u001b[1;32m--> 321\u001b[1;33m             \u001b[0mself\u001b[0m\u001b[1;33m.\u001b[0m\u001b[0merror_handler\u001b[0m\u001b[1;33m.\u001b[0m\u001b[0mcheck_response\u001b[0m\u001b[1;33m(\u001b[0m\u001b[0mresponse\u001b[0m\u001b[1;33m)\u001b[0m\u001b[1;33m\u001b[0m\u001b[1;33m\u001b[0m\u001b[0m\n\u001b[0m\u001b[0;32m    322\u001b[0m             response['value'] = self._unwrap_value(\n\u001b[0;32m    323\u001b[0m                 response.get('value', None))\n",
      "\u001b[1;32mC:\\ProgramData\\Anaconda3\\lib\\site-packages\\selenium\\webdriver\\remote\\errorhandler.py\u001b[0m in \u001b[0;36mcheck_response\u001b[1;34m(self, response)\u001b[0m\n\u001b[0;32m    240\u001b[0m                 \u001b[0malert_text\u001b[0m \u001b[1;33m=\u001b[0m \u001b[0mvalue\u001b[0m\u001b[1;33m[\u001b[0m\u001b[1;34m'alert'\u001b[0m\u001b[1;33m]\u001b[0m\u001b[1;33m.\u001b[0m\u001b[0mget\u001b[0m\u001b[1;33m(\u001b[0m\u001b[1;34m'text'\u001b[0m\u001b[1;33m)\u001b[0m\u001b[1;33m\u001b[0m\u001b[1;33m\u001b[0m\u001b[0m\n\u001b[0;32m    241\u001b[0m             \u001b[1;32mraise\u001b[0m \u001b[0mexception_class\u001b[0m\u001b[1;33m(\u001b[0m\u001b[0mmessage\u001b[0m\u001b[1;33m,\u001b[0m \u001b[0mscreen\u001b[0m\u001b[1;33m,\u001b[0m \u001b[0mstacktrace\u001b[0m\u001b[1;33m,\u001b[0m \u001b[0malert_text\u001b[0m\u001b[1;33m)\u001b[0m\u001b[1;33m\u001b[0m\u001b[1;33m\u001b[0m\u001b[0m\n\u001b[1;32m--> 242\u001b[1;33m         \u001b[1;32mraise\u001b[0m \u001b[0mexception_class\u001b[0m\u001b[1;33m(\u001b[0m\u001b[0mmessage\u001b[0m\u001b[1;33m,\u001b[0m \u001b[0mscreen\u001b[0m\u001b[1;33m,\u001b[0m \u001b[0mstacktrace\u001b[0m\u001b[1;33m)\u001b[0m\u001b[1;33m\u001b[0m\u001b[1;33m\u001b[0m\u001b[0m\n\u001b[0m\u001b[0;32m    243\u001b[0m \u001b[1;33m\u001b[0m\u001b[0m\n\u001b[0;32m    244\u001b[0m     \u001b[1;32mdef\u001b[0m \u001b[0m_value_or_default\u001b[0m\u001b[1;33m(\u001b[0m\u001b[0mself\u001b[0m\u001b[1;33m,\u001b[0m \u001b[0mobj\u001b[0m\u001b[1;33m,\u001b[0m \u001b[0mkey\u001b[0m\u001b[1;33m,\u001b[0m \u001b[0mdefault\u001b[0m\u001b[1;33m)\u001b[0m\u001b[1;33m:\u001b[0m\u001b[1;33m\u001b[0m\u001b[1;33m\u001b[0m\u001b[0m\n",
      "\u001b[1;31mWebDriverException\u001b[0m: Message: chrome not reachable\n  (Session info: chrome=76.0.3809.132)\n"
     ]
    }
   ],
   "source": [
    "# https://datalab.naver.com/keyword/realtimeList.naver\n",
    "\n",
    "# driver 변수를 Chrome webdriver 클래스로 만든다. \n",
    "driver = webdriver.Chrome(r'C:\\Users\\JY-JS\\Downloads\\chromedriver_win32\\chromedriver')\n",
    "\n",
    "# 3초간 기다리자.\n",
    "driver.implicitly_wait(3)\n",
    "\n",
    "# 페이지에서 소스 가져오기\n",
    "driver.get('https://datalab.naver.com/keyword/realtimeList.')\n",
    "\n",
    "# 5초간 기다려서 javascript 내용이 뜰때까지 기다리기\n",
    "time.sleep(5)\n",
    "\n",
    "# 페이지 소스를 html이라는 변수에 저장하기\n",
    "html = driver.page_source"
   ]
  },
  {
   "cell_type": "code",
   "execution_count": 68,
   "metadata": {},
   "outputs": [],
   "source": [
    "s1 = soup.find_all('span',{'class':'title'})"
   ]
  },
  {
   "cell_type": "code",
   "execution_count": 69,
   "metadata": {},
   "outputs": [
    {
     "data": {
      "text/plain": [
       "[]"
      ]
     },
     "execution_count": 69,
     "metadata": {},
     "output_type": "execute_result"
    }
   ],
   "source": [
    "s1"
   ]
  },
  {
   "cell_type": "code",
   "execution_count": 49,
   "metadata": {},
   "outputs": [
    {
     "data": {
      "text/plain": [
       "<!DOCTYPE HTML>\n",
       "\n",
       "<html lang=\"ko\">\n",
       "<head>\n",
       "<meta content=\"text/html; charset=utf-8\" http-equiv=\"Content-Type\"/>\n",
       "<meta content=\"width=device-width,initial-scale=1.0,maximum-scale=1.0,minimum-scale=1.0,user-scalable=no\" name=\"viewport\"/>\n",
       "<meta content=\"네이버 :: 서비스에 접속할 수 없습니다.\" lang=\"ko\" name=\"description\"/>\n",
       "<title>[접근 오류] 서비스에 접속할 수 없습니다.</title>\n",
       "<style type=\"text/css\">\n",
       "        /* PC */\n",
       "        body,p,h1,h2,h3,h4,h5,h6,ul,ol,li,dl,dt,dd,table,th,td,form,fieldset,legend,input,textarea,button,select{margin:0;padding:0}\n",
       "        body,input,textarea,select,button,table{font-size:12px;font-family:'굴림',Gulim,helvetica,sans-serif;color:#424242}\n",
       "        body,html{height:100%}\n",
       "        img,fieldset{border:0}\n",
       "        img{vertical-align:middle}\n",
       "        ul,ol{list-style:none}\n",
       "        em,address{font-style:normal}\n",
       "        a{color:#000;text-decoration:none}\n",
       "        legend{display:none}\n",
       "        hr{display:none !important}\n",
       "        #u_skip{position:relative;width:100%;z-index:10}\n",
       "        #u_skip a{position:absolute;top:-40px;left:0;width:auto;padding:0 10px;border:1px solid #4ec53d;background-color:#000;color:#fff;line-height:38px;white-space:nowrap;opacity:0;-webkit-transition:0.3s;transition:0.3s}\n",
       "        #u_skip a:active, #u_skip a:focus{top:0;text-decoration:none;opacity:1}\n",
       "        .wrap{width:600px;margin:0 auto}\n",
       "        .header{overflow:hidden;padding-top:30px}\n",
       "        .header .logo{float:left}\n",
       "        .header .logo .logo_link{display:inline-block;vertical-align:top}\n",
       "        .header .logo .logo_link img{width:90px;height:16px}\n",
       "        .header .nav{float:right;margin-top:9px}\n",
       "        .header .nav .nav_link:hover{text-decoration:underline}\n",
       "        .header .nav .nav_link+.nav_link:before{content:'';display:inline-block;width:1px;height:10px;margin:0 9px 0 5px;background-color:#d6d6d6;vertical-align:0}\n",
       "        .container{margin-top:66px}\n",
       "        .container .content{overflow:hidden}\n",
       "        .container .image_area{float:right;width:280px}\n",
       "        .container .image_area .image_link{display:block}\n",
       "        .container .image_area .image_author{overflow:hidden;display:block;text-align:center;white-space:nowrap;text-overflow:ellipsis;font-size:12px;line-height:17px;color:#8f8f8f}\n",
       "        .container .image_area+.info_area{overflow:hidden;text-align:left}\n",
       "        .container .info_area{margin-bottom:26px;text-align:center}\n",
       "        .container .info_area .info_txt{margin-top:29px}\n",
       "        .container .info_area .info_txt .tit{font-size:22px;line-height:25px}\n",
       "        .container .info_area .info_txt .txt{margin-top:18px;line-height:20px}\n",
       "        .container .info_area .info_link{margin-top:33px}\n",
       "        .container .info_area .info_link [class^=\"link_\"]{overflow:hidden;display:inline-block;width:101px;height:34px;border:1px solid #e3e6e7;background-color:#fafbfc;line-height:34px;text-align:center;vertical-align:top;white-space:nowrap}\n",
       "        .container .info_area .info_link .link_home{margin-left:10px}\n",
       "        .footer{margin-top:93px;padding:18px 0 24px;border-top:1px solid #eff3f6}\n",
       "        .footer address, .footer .link_naver{text-align:center;font-family:verdana,sans-serif;font-size:11px;line-height:14px;color:#8f8f8f}\n",
       "        /* 모바일 */\n",
       "        body.mobile, body.mobile input,textarea,select,button,table{font-family:-apple-system,BlinkMacSystemFont,helvetica,Apple SD Gothic Neo,sans-serif;letter-spacing:-0.3px}\n",
       "        body.mobile{background-color:#fafbfc;-webkit-text-size-adjust:none}\n",
       "        body.mobile .wrap{width:100%}\n",
       "        body.mobile .header{padding-top:15px;text-align:center}\n",
       "        body.mobile .header .logo{float:none}\n",
       "        body.mobile .header .logo .logo_link img{width:82px;height:15px}\n",
       "        body.mobile .header .nav{display:none}\n",
       "        body.mobile .container{margin-top:38px}\n",
       "        body.mobile .container .content{position:relative}\n",
       "        body.mobile .container .image_area{position:absolute;bottom:72px;left:50%;margin-left:-140px}\n",
       "        body.mobile .container .image_area+.info_area{margin:0}\n",
       "        body.mobile .container .image_area+.info_area .info_link{margin-top:280px}\n",
       "        body.mobile .container .info_area{margin:40px 0 161px 0;text-align:center}\n",
       "        body.mobile .container .info_area .info_txt{margin-top:0}\n",
       "        body.mobile .container .info_area .info_txt .tit{font-size:26px;line-height:29px;color:#000}\n",
       "        body.mobile .container .info_area .info_txt .txt{margin-top:13px;font-size:17px;line-height:25px;color:#666}\n",
       "        body.mobile .container .info_area .info_link{margin-top:79px}\n",
       "        body.mobile .container .info_area .info_link [class^=\"link_\"]{width:139px;height:42px;background-color:#fff;font-size:15px;line-height:42px;color:#424242}\n",
       "        body.mobile .container .info_area .info_link .link_home{margin-left:-1px}\n",
       "        body.mobile .footer{margin-top:66px;border-top:0}\n",
       "        body.mobile .footer address span{display:none}\n",
       "    </style>\n",
       "</head>\n",
       "<!-- 모바일 노출시 .mobile 추가 -->\n",
       "<body>\n",
       "<div class=\"u_skip\" id=\"u_skip\">\n",
       "<a href=\"#content\">본문 바로가기</a>\n",
       "</div>\n",
       "<div class=\"wrap\">\n",
       "<div class=\"header\" role=\"banner\">\n",
       "<h1 class=\"logo\"><a class=\"logo_link\" href=\"https://www.naver.com\"><img alt=\"네이버\" height=\"16\" src=\"https://ssl.pstatic.net/static.datalab/201908220224/img/naver_logo.png\" width=\"90\"/></a></h1>\n",
       "<div class=\"nav\" role=\"navigation\">\n",
       "<a class=\"nav_link\" href=\"https://www.naver.com\">네이버홈</a>\n",
       "<a class=\"nav_link\" href=\"https://help.naver.com/support/service/main.nhn?serviceNo=14493\">네이버 데이터랩 고객센터</a>\n",
       "</div>\n",
       "</div>\n",
       "<hr/>\n",
       "<div class=\"container\" role=\"main\">\n",
       "<div class=\"content\" id=\"content\">\n",
       "<div class=\"image_area _errorImage\">\n",
       "</div>\n",
       "<div class=\"info_area\">\n",
       "<div class=\"info_txt\">\n",
       "<strong class=\"tit\">다시 한번 확인해주세요!</strong>\n",
       "<p class=\"txt\">\n",
       "                        지금 입력하신 주소의 페이지는<br/>\n",
       "                        사라졌거나 다른 페이지로 변경되었습니다.<br/>\n",
       "                        주소를 다시 확인해주세요.\n",
       "                    </p>\n",
       "</div>\n",
       "<div class=\"info_link\">\n",
       "<a class=\"link_prev\" href=\"javascript:history.back()\">이전 페이지</a><a class=\"link_home\" href=\"https://www.naver.com\">네이버 홈</a>\n",
       "</div>\n",
       "</div>\n",
       "</div>\n",
       "</div>\n",
       "<hr/>\n",
       "<div class=\"footer\" role=\"contentinfo\">\n",
       "<address>\n",
       "<span>Copyright</span> ©<a class=\"link_naver\" href=\"http://www.navercorp.com\" target=\"_blank\">NAVER Corp.</a> <span>All Rights Reserved.</span>\n",
       "</address>\n",
       "</div>\n",
       "</div>\n",
       "<script src=\"https://ssl.pstatic.net/static/fe/grafolio.js\"></script>\n",
       "</body>\n",
       "</html>"
      ]
     },
     "execution_count": 49,
     "metadata": {},
     "output_type": "execute_result"
    }
   ],
   "source": [
    "soup"
   ]
  },
  {
   "cell_type": "code",
   "execution_count": 77,
   "metadata": {},
   "outputs": [],
   "source": [
    "# 영화진흥위원회 9월 첫째주 박스오피스 json파일 만들기\n",
    "# http://www.kobis.or.kr/kobisopenapi/webservice/rest/boxoffice/searchDailyBoxOfficeList.json?key=430156241533f1d058c603178cc3ca0e&targetDt=20190901\n",
    "movies_dict = {\"boxOfficeResult\":{\"boxofficeType\":\"일별 박스오피스\",\"showRange\":\"20190901~20190901\",\"dailyBoxOfficeList\":[{\"rnum\":\"1\",\"rank\":\"1\",\"rankInten\":\"0\",\"rankOldAndNew\":\"OLD\",\"movieCd\":\"20181416\",\"movieNm\":\"유열의 음악앨범\",\"openDt\":\"2019-08-28\",\"salesAmt\":\"1276019900\",\"salesShare\":\"22.8\",\"salesInten\":\"-226097200\",\"salesChange\":\"-15.1\",\"salesAcc\":\"5510222940\",\"audiCnt\":\"145265\",\"audiInten\":\"-23942\",\"audiChange\":\"-14.1\",\"audiAcc\":\"684517\",\"scrnCnt\":\"1032\",\"showCnt\":\"4696\"},{\"rnum\":\"2\",\"rank\":\"2\",\"rankInten\":\"0\",\"rankOldAndNew\":\"OLD\",\"movieCd\":\"20184543\",\"movieNm\":\"변신\",\"openDt\":\"2019-08-21\",\"salesAmt\":\"1132455850\",\"salesShare\":\"20.3\",\"salesInten\":\"-278659860\",\"salesChange\":\"-19.7\",\"salesAcc\":\"12848880862\",\"audiCnt\":\"128666\",\"audiInten\":\"-29234\",\"audiChange\":\"-18.5\",\"audiAcc\":\"1499644\",\"scrnCnt\":\"888\",\"showCnt\":\"3496\"},{\"rnum\":\"3\",\"rank\":\"3\",\"rankInten\":\"0\",\"rankOldAndNew\":\"OLD\",\"movieCd\":\"20184621\",\"movieNm\":\"엑시트\",\"openDt\":\"2019-07-31\",\"salesAmt\":\"905597200\",\"salesShare\":\"16.2\",\"salesInten\":\"-230085970\",\"salesChange\":\"-20.3\",\"salesAcc\":\"74985544502\",\"audiCnt\":\"105783\",\"audiInten\":\"-26723\",\"audiChange\":\"-20.2\",\"audiAcc\":\"8917590\",\"scrnCnt\":\"800\",\"showCnt\":\"2784\"},{\"rnum\":\"4\",\"rank\":\"4\",\"rankInten\":\"0\",\"rankOldAndNew\":\"OLD\",\"movieCd\":\"20196850\",\"movieNm\":\"분노의 질주: 홉스&쇼\",\"openDt\":\"2019-08-14\",\"salesAmt\":\"718357500\",\"salesShare\":\"12.9\",\"salesInten\":\"-138592050\",\"salesChange\":\"-16.2\",\"salesAcc\":\"30234059483\",\"audiCnt\":\"81183\",\"audiInten\":\"-15322\",\"audiChange\":\"-15.9\",\"audiAcc\":\"3418346\",\"scrnCnt\":\"666\",\"showCnt\":\"2091\"},{\"rnum\":\"5\",\"rank\":\"5\",\"rankInten\":\"0\",\"rankOldAndNew\":\"OLD\",\"movieCd\":\"20193665\",\"movieNm\":\"47미터 2\",\"openDt\":\"2019-08-28\",\"salesAmt\":\"623415780\",\"salesShare\":\"11.2\",\"salesInten\":\"-79210820\",\"salesChange\":\"-11.3\",\"salesAcc\":\"2515525810\",\"audiCnt\":\"71516\",\"audiInten\":\"-7583\",\"audiChange\":\"-9.6\",\"audiAcc\":\"311240\",\"scrnCnt\":\"642\",\"showCnt\":\"2073\"},{\"rnum\":\"6\",\"rank\":\"6\",\"rankInten\":\"0\",\"rankOldAndNew\":\"OLD\",\"movieCd\":\"20184462\",\"movieNm\":\"봉오동 전투\",\"openDt\":\"2019-08-07\",\"salesAmt\":\"249028200\",\"salesShare\":\"4.5\",\"salesInten\":\"-22310920\",\"salesChange\":\"-8.2\",\"salesAcc\":\"40028760378\",\"audiCnt\":\"29522\",\"audiInten\":\"-2554\",\"audiChange\":\"-8\",\"audiAcc\":\"4712558\",\"scrnCnt\":\"499\",\"showCnt\":\"925\"},{\"rnum\":\"7\",\"rank\":\"7\",\"rankInten\":\"0\",\"rankOldAndNew\":\"OLD\",\"movieCd\":\"20185985\",\"movieNm\":\"광대들: 풍문조작단\",\"openDt\":\"2019-08-21\",\"salesAmt\":\"162152810\",\"salesShare\":\"2.9\",\"salesInten\":\"-15304550\",\"salesChange\":\"-8.6\",\"salesAcc\":\"4929720718\",\"audiCnt\":\"19566\",\"audiInten\":\"-1683\",\"audiChange\":\"-7.9\",\"audiAcc\":\"597616\",\"scrnCnt\":\"462\",\"showCnt\":\"811\"},{\"rnum\":\"8\",\"rank\":\"8\",\"rankInten\":\"0\",\"rankOldAndNew\":\"OLD\",\"movieCd\":\"20194384\",\"movieNm\":\"안나\",\"openDt\":\"2019-08-28\",\"salesAmt\":\"141388510\",\"salesShare\":\"2.5\",\"salesInten\":\"-24552940\",\"salesChange\":\"-14.8\",\"salesAcc\":\"600970920\",\"audiCnt\":\"15991\",\"audiInten\":\"-2528\",\"audiChange\":\"-13.7\",\"audiAcc\":\"73250\",\"scrnCnt\":\"410\",\"showCnt\":\"711\"},{\"rnum\":\"9\",\"rank\":\"9\",\"rankInten\":\"0\",\"rankOldAndNew\":\"OLD\",\"movieCd\":\"20171021\",\"movieNm\":\"커런트 워\",\"openDt\":\"2019-08-22\",\"salesAmt\":\"61985400\",\"salesShare\":\"1.1\",\"salesInten\":\"-16880100\",\"salesChange\":\"-21.4\",\"salesAcc\":\"1694668900\",\"audiCnt\":\"7127\",\"audiInten\":\"-1740\",\"audiChange\":\"-19.6\",\"audiAcc\":\"194259\",\"scrnCnt\":\"183\",\"showCnt\":\"370\"},{\"rnum\":\"10\",\"rank\":\"10\",\"rankInten\":\"1\",\"rankOldAndNew\":\"OLD\",\"movieCd\":\"20198323\",\"movieNm\":\"레드슈즈\",\"openDt\":\"2019-07-25\",\"salesAmt\":\"27753890\",\"salesShare\":\"0.5\",\"salesInten\":\"-1392710\",\"salesChange\":\"-4.8\",\"salesAcc\":\"5976045650\",\"audiCnt\":\"5744\",\"audiInten\":\"-163\",\"audiChange\":\"-2.8\",\"audiAcc\":\"786819\",\"scrnCnt\":\"75\",\"showCnt\":\"106\"}]}}"
   ]
  },
  {
   "cell_type": "code",
   "execution_count": 78,
   "metadata": {},
   "outputs": [],
   "source": [
    "# json 라이브러리 딕셔너리 형태로 저장됨\n",
    "import json"
   ]
  },
  {
   "cell_type": "code",
   "execution_count": 79,
   "metadata": {},
   "outputs": [],
   "source": [
    "park = {'이름':'박철기',\n",
    "       '나이':28,\n",
    "       '지역':'중랑구',\n",
    "       '취미':'산책',\n",
    "       '좌우명':'하면 된다.'}"
   ]
  },
  {
   "cell_type": "code",
   "execution_count": 80,
   "metadata": {},
   "outputs": [],
   "source": [
    "# 딕셔너리를 json 파일로 저장\n",
    "with open('park.json','w',encoding='UTF-8') as f:\n",
    "    \n",
    "    json.dump(park,f,indent=4,ensure_ascii=False) #기본적으로 이런형태로 저장한다고 하는데 옵션값은 나중에 알아서 변경"
   ]
  },
  {
   "cell_type": "code",
   "execution_count": 81,
   "metadata": {},
   "outputs": [
    {
     "ename": "FileNotFoundError",
     "evalue": "[Errno 2] No such file or directory: 'movies.json'",
     "output_type": "error",
     "traceback": [
      "\u001b[1;31m---------------------------------------------------------------------------\u001b[0m",
      "\u001b[1;31mFileNotFoundError\u001b[0m                         Traceback (most recent call last)",
      "\u001b[1;32m<ipython-input-81-b68a123ee239>\u001b[0m in \u001b[0;36m<module>\u001b[1;34m\u001b[0m\n\u001b[1;32m----> 1\u001b[1;33m \u001b[1;32mwith\u001b[0m \u001b[0mopen\u001b[0m\u001b[1;33m(\u001b[0m\u001b[1;34m'movies.json'\u001b[0m\u001b[1;33m,\u001b[0m\u001b[1;34m'r'\u001b[0m\u001b[1;33m)\u001b[0m \u001b[1;32mas\u001b[0m \u001b[0mf\u001b[0m\u001b[1;33m:\u001b[0m\u001b[1;33m\u001b[0m\u001b[1;33m\u001b[0m\u001b[0m\n\u001b[0m\u001b[0;32m      2\u001b[0m     \u001b[0mline5\u001b[0m \u001b[1;33m=\u001b[0m \u001b[0mjson\u001b[0m\u001b[1;33m.\u001b[0m\u001b[0mload\u001b[0m\u001b[1;33m(\u001b[0m\u001b[0mf\u001b[0m\u001b[1;33m)\u001b[0m\u001b[1;33m\u001b[0m\u001b[1;33m\u001b[0m\u001b[0m\n",
      "\u001b[1;31mFileNotFoundError\u001b[0m: [Errno 2] No such file or directory: 'movies.json'"
     ]
    }
   ],
   "source": [
    "with open('movies.json','r') as f:\n",
    "    line5 = json.load(f)"
   ]
  },
  {
   "cell_type": "code",
   "execution_count": null,
   "metadata": {},
   "outputs": [],
   "source": []
  }
 ],
 "metadata": {
  "kernelspec": {
   "display_name": "Python 3",
   "language": "python",
   "name": "python3"
  },
  "language_info": {
   "codemirror_mode": {
    "name": "ipython",
    "version": 3
   },
   "file_extension": ".py",
   "mimetype": "text/x-python",
   "name": "python",
   "nbconvert_exporter": "python",
   "pygments_lexer": "ipython3",
   "version": "3.7.3"
  }
 },
 "nbformat": 4,
 "nbformat_minor": 2
}
