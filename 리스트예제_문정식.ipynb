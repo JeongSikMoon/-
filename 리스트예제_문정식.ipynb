{
  "nbformat": 4,
  "nbformat_minor": 0,
  "metadata": {
    "colab": {
      "name": "리스트예제_문정식.ipynb",
      "version": "0.3.2",
      "provenance": [],
      "collapsed_sections": []
    },
    "kernelspec": {
      "name": "python3",
      "display_name": "Python 3"
    }
  },
  "cells": [
    {
      "cell_type": "markdown",
      "metadata": {
        "id": "D2U7_i9UBMa-",
        "colab_type": "text"
      },
      "source": [
        "### Q001. 빈 리스트인 list0을 만들어보자.\n",
        "### 출력까지 해보자."
      ]
    },
    {
      "cell_type": "code",
      "metadata": {
        "id": "AjeXBQWyBM-U",
        "colab_type": "code",
        "outputId": "68978219-a2f5-4e0c-de61-646118482688",
        "colab": {
          "base_uri": "https://localhost:8080/",
          "height": 36
        }
      },
      "source": [
        "list0 = []\n",
        "list0"
      ],
      "execution_count": 0,
      "outputs": [
        {
          "output_type": "execute_result",
          "data": {
            "text/plain": [
              "[]"
            ]
          },
          "metadata": {
            "tags": []
          },
          "execution_count": 2
        }
      ]
    },
    {
      "cell_type": "markdown",
      "metadata": {
        "id": "ri0GazzCBWMe",
        "colab_type": "text"
      },
      "source": [
        "### Q002.'희준', '강타' 를 넣어 HOT라는 리스트를 만들어보자.\n",
        "### 출력까지 해보자."
      ]
    },
    {
      "cell_type": "code",
      "metadata": {
        "id": "lvsQrLtiBWoM",
        "colab_type": "code",
        "outputId": "688dc9c8-3610-4b83-f374-242b8edf3584",
        "colab": {
          "base_uri": "https://localhost:8080/",
          "height": 36
        }
      },
      "source": [
        "HOT = ['희준','강타']\n",
        "print(HOT)"
      ],
      "execution_count": 0,
      "outputs": [
        {
          "output_type": "stream",
          "text": [
            "['희준', '강타']\n"
          ],
          "name": "stdout"
        }
      ]
    },
    {
      "cell_type": "markdown",
      "metadata": {
        "id": "swTN2AkHDjSE",
        "colab_type": "text"
      },
      "source": [
        "### Q003. 1,2,3 이라는 값을 갖는 numbers 라는 리스트를 만들자.\n",
        "### 인덱스를 이용하여 값들을 각각 출력해보자.\n",
        "<pre>\n",
        "출력:\n",
        "1\n",
        "2\n",
        "3"
      ]
    },
    {
      "cell_type": "code",
      "metadata": {
        "id": "JsJRJ-rxEEZ1",
        "colab_type": "code",
        "outputId": "5a4943ff-a62e-4995-bdf7-bb5fbd59ca38",
        "colab": {
          "base_uri": "https://localhost:8080/",
          "height": 73
        }
      },
      "source": [
        "numbers = [1,2,3]\n",
        "print(number[0])\n",
        "print(number[1])\n",
        "print(number[2])"
      ],
      "execution_count": 0,
      "outputs": [
        {
          "output_type": "stream",
          "text": [
            "1\n",
            "2\n",
            "3\n"
          ],
          "name": "stdout"
        }
      ]
    },
    {
      "cell_type": "markdown",
      "metadata": {
        "id": "ByAo7r96EEs0",
        "colab_type": "text"
      },
      "source": [
        "### Q004. 앞에서 만든 numbers 리스트에서 마이너스(-)인덱스를 이용해서 값 3을 출력해보자."
      ]
    },
    {
      "cell_type": "code",
      "metadata": {
        "id": "sgA5hvqfEUdU",
        "colab_type": "code",
        "outputId": "30a19303-d35d-4c27-841f-338be0702c12",
        "colab": {
          "base_uri": "https://localhost:8080/",
          "height": 73
        }
      },
      "source": [
        "numbers = [1,2,3]\n",
        "print(numbers[-1])\n",
        "print(numbers[-2])\n",
        "print(numbers[-3])"
      ],
      "execution_count": 0,
      "outputs": [
        {
          "output_type": "stream",
          "text": [
            "3\n",
            "2\n",
            "1\n"
          ],
          "name": "stdout"
        }
      ]
    },
    {
      "cell_type": "markdown",
      "metadata": {
        "id": "qNPVUfRgEV7-",
        "colab_type": "text"
      },
      "source": [
        "### Q005. 아래 리스트에서 인덱스를 이용해서 '여름', '겨울'을 각각 출력해 보세요."
      ]
    },
    {
      "cell_type": "code",
      "metadata": {
        "id": "7-_ivhXebqt1",
        "colab_type": "code",
        "colab": {}
      },
      "source": [
        "z = ['q', 1, ['여름', '겨울']]"
      ],
      "execution_count": 0,
      "outputs": []
    },
    {
      "cell_type": "code",
      "metadata": {
        "id": "R3dGU06hfRbS",
        "colab_type": "code",
        "outputId": "59965d5a-3630-4250-fd20-770c7ae58fab",
        "colab": {
          "base_uri": "https://localhost:8080/",
          "height": 36
        }
      },
      "source": [
        "print(z[2][0],z[2][1])"
      ],
      "execution_count": 0,
      "outputs": [
        {
          "output_type": "stream",
          "text": [
            "여름 겨울\n"
          ],
          "name": "stdout"
        }
      ]
    },
    {
      "cell_type": "markdown",
      "metadata": {
        "id": "tJEz4EQ_cMdm",
        "colab_type": "text"
      },
      "source": [
        "### Q006. 아래 리스트에서 2,3,4까지 슬라이스해서 출력해보세요."
      ]
    },
    {
      "cell_type": "code",
      "metadata": {
        "id": "6Rgnw1AUdyrw",
        "colab_type": "code",
        "outputId": "f69892d9-8866-4c06-8896-dc38db0f7e76",
        "colab": {
          "base_uri": "https://localhost:8080/",
          "height": 36
        }
      },
      "source": [
        "a = [1,2,3,4,5]\n",
        "print(a[1:4])"
      ],
      "execution_count": 0,
      "outputs": [
        {
          "output_type": "stream",
          "text": [
            "[2, 3, 4]\n"
          ],
          "name": "stdout"
        }
      ]
    },
    {
      "cell_type": "markdown",
      "metadata": {
        "id": "41bvfpKYfio-",
        "colab_type": "text"
      },
      "source": [
        "### Q007. 아래 리스트에서 홀수만 슬라이스 해서 출력해보세요."
      ]
    },
    {
      "cell_type": "code",
      "metadata": {
        "id": "lot_9IW2fxvy",
        "colab_type": "code",
        "outputId": "72a1f93f-2a1b-4d97-e03c-93f36f99eb69",
        "colab": {
          "base_uri": "https://localhost:8080/",
          "height": 36
        }
      },
      "source": [
        "w = [1,2,3,4,5,6,7,8,9]\n",
        "print(w[::2])"
      ],
      "execution_count": 0,
      "outputs": [
        {
          "output_type": "stream",
          "text": [
            "[1, 3, 5, 7, 9]\n"
          ],
          "name": "stdout"
        }
      ]
    },
    {
      "cell_type": "markdown",
      "metadata": {
        "id": "11xSbAfof-ye",
        "colab_type": "text"
      },
      "source": [
        "### Q008. 아래 리스트에서 짝수만 슬라이스 해서 출력해보세요."
      ]
    },
    {
      "cell_type": "code",
      "metadata": {
        "id": "CnHZPsLigbFn",
        "colab_type": "code",
        "outputId": "d18c18cd-c12d-41f4-a2cc-fa702afc7689",
        "colab": {
          "base_uri": "https://localhost:8080/",
          "height": 36
        }
      },
      "source": [
        "w = [1,2,3,4,5,6,7,8,9]\n",
        "print(w[1::2])"
      ],
      "execution_count": 0,
      "outputs": [
        {
          "output_type": "stream",
          "text": [
            "[2, 4, 6, 8]\n"
          ],
          "name": "stdout"
        }
      ]
    },
    {
      "cell_type": "markdown",
      "metadata": {
        "id": "n_t0w8hZggEv",
        "colab_type": "text"
      },
      "source": [
        "### Q009. 리스트 z와 리스트 q를 더해서 새로운 리스트 w를 만들어보세요.\n",
        "### 출력도 해보세요."
      ]
    },
    {
      "cell_type": "code",
      "metadata": {
        "id": "JAnMoWPQsiJv",
        "colab_type": "code",
        "outputId": "561ebaaa-b38d-49ce-f861-74bc207b9b63",
        "colab": {
          "base_uri": "https://localhost:8080/",
          "height": 36
        }
      },
      "source": [
        "z = [1, 2]\n",
        "q = [3, 4]\n",
        "w = z+q\n",
        "print(w)"
      ],
      "execution_count": 0,
      "outputs": [
        {
          "output_type": "stream",
          "text": [
            "[1, 2, 3, 4]\n"
          ],
          "name": "stdout"
        }
      ]
    },
    {
      "cell_type": "markdown",
      "metadata": {
        "id": "_ptJyWVVtc_Y",
        "colab_type": "text"
      },
      "source": [
        "### Q010. 리스트 z에 3을 곱하여 반복한 z2를 만들어보세요.\n",
        "### z2를 출력해보세요."
      ]
    },
    {
      "cell_type": "code",
      "metadata": {
        "id": "rPdWJ-3cvX04",
        "colab_type": "code",
        "outputId": "bab5442b-ecd4-49fa-d34d-2d5d0364cff1",
        "colab": {
          "base_uri": "https://localhost:8080/",
          "height": 36
        }
      },
      "source": [
        "z = ['x', 'y']\n",
        "z2=z*3\n",
        "print(z2)"
      ],
      "execution_count": 0,
      "outputs": [
        {
          "output_type": "stream",
          "text": [
            "['x', 'y', 'x', 'y', 'x', 'y']\n"
          ],
          "name": "stdout"
        }
      ]
    },
    {
      "cell_type": "markdown",
      "metadata": {
        "id": "R_EZA2dUvYzw",
        "colab_type": "text"
      },
      "source": [
        "### Q011. 아래 리스트 z의 길이를 구하세요."
      ]
    },
    {
      "cell_type": "code",
      "metadata": {
        "id": "MbmBsZwlwR54",
        "colab_type": "code",
        "outputId": "fe3fed92-d88f-4123-c1e6-c039effee7ab",
        "colab": {
          "base_uri": "https://localhost:8080/",
          "height": 36
        }
      },
      "source": [
        "z = [1,2,3,1,2,3,1,2,3,1,2,3,1,2,3,1,2,3,1,23]\n",
        "print(len(z))"
      ],
      "execution_count": 0,
      "outputs": [
        {
          "output_type": "stream",
          "text": [
            "20\n"
          ],
          "name": "stdout"
        }
      ]
    },
    {
      "cell_type": "markdown",
      "metadata": {
        "id": "GxyXd405w1DD",
        "colab_type": "text"
      },
      "source": [
        "### Q012.리스트 colors가 아래와 같이 주어질 때, 'yellow'를 추가하세요."
      ]
    },
    {
      "cell_type": "code",
      "metadata": {
        "id": "c7ywuRU9x_vD",
        "colab_type": "code",
        "outputId": "37294624-e1eb-476e-a991-cec176d02a1a",
        "colab": {
          "base_uri": "https://localhost:8080/",
          "height": 36
        }
      },
      "source": [
        "colors = ['red', 'blue', 'green']\n",
        "colors.append('yellow')\n",
        "print(colors)"
      ],
      "execution_count": 0,
      "outputs": [
        {
          "output_type": "stream",
          "text": [
            "['red', 'blue', 'green', 'yellow']\n"
          ],
          "name": "stdout"
        }
      ]
    },
    {
      "cell_type": "markdown",
      "metadata": {
        "id": "zwUEWDvCyQbJ",
        "colab_type": "text"
      },
      "source": [
        "### Q013. 리스트 colors가 아래와 같이 주어질 때, colors2에 있는 여러 값들을 colors에 추가하세요."
      ]
    },
    {
      "cell_type": "code",
      "metadata": {
        "id": "ECixB5mIym_A",
        "colab_type": "code",
        "outputId": "70dcefc0-90ba-45e7-f6a1-165c4d4b924d",
        "colab": {
          "base_uri": "https://localhost:8080/",
          "height": 36
        }
      },
      "source": [
        "colors = ['red', 'blue', 'green', 'yellow']\n",
        "colors2 = ['black', 'gray']\n",
        "colors.extend(colors2)\n",
        "print(colors)"
      ],
      "execution_count": 0,
      "outputs": [
        {
          "output_type": "stream",
          "text": [
            "['red', 'blue', 'green', 'yellow', 'black', 'gray']\n"
          ],
          "name": "stdout"
        }
      ]
    },
    {
      "cell_type": "markdown",
      "metadata": {
        "id": "f2VJoiNuy34w",
        "colab_type": "text"
      },
      "source": [
        "### Q014. 리스트 a가 아래와 같을 때, 3번째 인덱스(순번)에 10을 넣으세요."
      ]
    },
    {
      "cell_type": "code",
      "metadata": {
        "id": "Bey3MxrYzK8W",
        "colab_type": "code",
        "outputId": "db2ae780-d20e-4022-9334-cfc408a3a4c4",
        "colab": {
          "base_uri": "https://localhost:8080/",
          "height": 36
        }
      },
      "source": [
        "a = [1, 3, 4, 9, 8, 2]\n",
        "a.insert(3,10)\n",
        "print(a)"
      ],
      "execution_count": 0,
      "outputs": [
        {
          "output_type": "stream",
          "text": [
            "[1, 3, 4, 10, 9, 8, 2]\n"
          ],
          "name": "stdout"
        }
      ]
    },
    {
      "cell_type": "markdown",
      "metadata": {
        "id": "MX0Uggc0zTCR",
        "colab_type": "text"
      },
      "source": [
        "### Q015. 리스트 q가 아래와 같을 때, '철수' 를 제거하세요."
      ]
    },
    {
      "cell_type": "code",
      "metadata": {
        "id": "rUVQkqfKzeRO",
        "colab_type": "code",
        "outputId": "b7ae3520-09a6-438f-e282-323efd355cd5",
        "colab": {
          "base_uri": "https://localhost:8080/",
          "height": 36
        }
      },
      "source": [
        "q = ['민희', '민지', '병호', '철수', '훈희']\n",
        "q.remove('철수')\n",
        "print(q)"
      ],
      "execution_count": 0,
      "outputs": [
        {
          "output_type": "stream",
          "text": [
            "['민희', '민지', '병호', '훈희']\n"
          ],
          "name": "stdout"
        }
      ]
    },
    {
      "cell_type": "markdown",
      "metadata": {
        "id": "epS4BGnWzk7E",
        "colab_type": "text"
      },
      "source": [
        "### Q016. 리스트 a가 아래와 같을 때, 값 1을 10으로 바꾸세요."
      ]
    },
    {
      "cell_type": "code",
      "metadata": {
        "id": "B0nLLdDiz17G",
        "colab_type": "code",
        "outputId": "7bb1e5d8-e886-46bb-a7a4-dd508f3e02d9",
        "colab": {
          "base_uri": "https://localhost:8080/",
          "height": 36
        }
      },
      "source": [
        "a = [2,3,1,7,9]\n",
        "a[2] = 10\n",
        "print(a)"
      ],
      "execution_count": 0,
      "outputs": [
        {
          "output_type": "stream",
          "text": [
            "[2, 3, 10, 7, 9]\n"
          ],
          "name": "stdout"
        }
      ]
    },
    {
      "cell_type": "markdown",
      "metadata": {
        "id": "vOKuvpwF0AxI",
        "colab_type": "text"
      },
      "source": [
        "### Q017. 리스트 list1 이 아래와 같을 때, 'fox'의 인덱스(순번)을 찾으세요."
      ]
    },
    {
      "cell_type": "code",
      "metadata": {
        "id": "Qn9Q-r2Q1VjO",
        "colab_type": "code",
        "outputId": "24f057c6-20d6-49e8-9536-d97cc1480a1b",
        "colab": {
          "base_uri": "https://localhost:8080/",
          "height": 36
        }
      },
      "source": [
        "list1 = ['lion', 'tiger', 'dog', 'cat', 'fox', 'turtle']\n",
        "list1.index('fox')"
      ],
      "execution_count": 0,
      "outputs": [
        {
          "output_type": "execute_result",
          "data": {
            "text/plain": [
              "4"
            ]
          },
          "metadata": {
            "tags": []
          },
          "execution_count": 50
        }
      ]
    },
    {
      "cell_type": "markdown",
      "metadata": {
        "id": "K5RsWbtJ1ecy",
        "colab_type": "text"
      },
      "source": [
        "### Q018. 리스트 list2가 아래와 같을 때 7의 갯수를 출력하세요."
      ]
    },
    {
      "cell_type": "code",
      "metadata": {
        "id": "_k97ch4O2CGL",
        "colab_type": "code",
        "outputId": "8720d5d9-5fbd-4b75-afaa-c7caf9ea0824",
        "colab": {
          "base_uri": "https://localhost:8080/",
          "height": 36
        }
      },
      "source": [
        "list2 = [7,7,7,7,7,8,8,8,88,6,5,5,4,4,3,2,2,25,6,6,7,77,7,8,8,88,5,5,5,8,888,77,7]\n",
        "list2.count(7)"
      ],
      "execution_count": 0,
      "outputs": [
        {
          "output_type": "execute_result",
          "data": {
            "text/plain": [
              "8"
            ]
          },
          "metadata": {
            "tags": []
          },
          "execution_count": 55
        }
      ]
    },
    {
      "cell_type": "code",
      "metadata": {
        "id": "gHHB18-qk47y",
        "colab_type": "code",
        "colab": {}
      },
      "source": [
        ""
      ],
      "execution_count": 0,
      "outputs": []
    }
  ]
}